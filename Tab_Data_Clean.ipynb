{
 "cells": [
  {
   "cell_type": "code",
   "execution_count": 101,
   "id": "6970046b-a6be-48c6-8c91-169b30128037",
   "metadata": {},
   "outputs": [],
   "source": [
    "import pandas as pd\n",
    "import numpy as np\n",
    "import os\n",
    "import datetime as dt"
   ]
  },
  {
   "cell_type": "markdown",
   "id": "2cda5609-19cd-4b44-911c-fbd17e767972",
   "metadata": {},
   "source": [
    "### Load in both sheets and clean 2021 Data"
   ]
  },
  {
   "cell_type": "code",
   "execution_count": 102,
   "id": "037c10b3-5fc4-483c-b0be-b27fd99653dd",
   "metadata": {},
   "outputs": [
    {
     "name": "stderr",
     "output_type": "stream",
     "text": [
      "C:\\Users\\emeyer79\\Anaconda3\\lib\\site-packages\\IPython\\core\\interactiveshell.py:3165: DtypeWarning: Columns (5,7) have mixed types.Specify dtype option on import or set low_memory=False.\n",
      "  has_raised = await self.run_ast_nodes(code_ast.body, cell_name,\n"
     ]
    },
    {
     "data": {
      "text/html": [
       "<div>\n",
       "<style scoped>\n",
       "    .dataframe tbody tr th:only-of-type {\n",
       "        vertical-align: middle;\n",
       "    }\n",
       "\n",
       "    .dataframe tbody tr th {\n",
       "        vertical-align: top;\n",
       "    }\n",
       "\n",
       "    .dataframe thead th {\n",
       "        text-align: right;\n",
       "    }\n",
       "</style>\n",
       "<table border=\"1\" class=\"dataframe\">\n",
       "  <thead>\n",
       "    <tr style=\"text-align: right;\">\n",
       "      <th></th>\n",
       "      <th>ride_id</th>\n",
       "      <th>rideable_type</th>\n",
       "      <th>started_at</th>\n",
       "      <th>ended_at</th>\n",
       "      <th>start_station_name</th>\n",
       "      <th>start_station_id</th>\n",
       "      <th>end_station_name</th>\n",
       "      <th>end_station_id</th>\n",
       "      <th>start_lat</th>\n",
       "      <th>start_lng</th>\n",
       "      <th>end_lat</th>\n",
       "      <th>end_lng</th>\n",
       "      <th>member_casual</th>\n",
       "    </tr>\n",
       "  </thead>\n",
       "  <tbody>\n",
       "    <tr>\n",
       "      <th>0</th>\n",
       "      <td>7099F9531C9DA16D</td>\n",
       "      <td>docked_bike</td>\n",
       "      <td>2021-04-28 17:27:24</td>\n",
       "      <td>2021-04-28 17:34:31</td>\n",
       "      <td>DeKalb Ave &amp; Hudson Ave</td>\n",
       "      <td>4513.06</td>\n",
       "      <td>Douglass St &amp; 4 Ave</td>\n",
       "      <td>4175.14</td>\n",
       "      <td>40.689888</td>\n",
       "      <td>-73.981013</td>\n",
       "      <td>40.679279</td>\n",
       "      <td>-73.981540</td>\n",
       "      <td>member</td>\n",
       "    </tr>\n",
       "    <tr>\n",
       "      <th>1</th>\n",
       "      <td>EDC6F1B1A69A7863</td>\n",
       "      <td>docked_bike</td>\n",
       "      <td>2021-04-27 17:28:02</td>\n",
       "      <td>2021-04-27 17:33:07</td>\n",
       "      <td>E 47 St &amp; Park Ave</td>\n",
       "      <td>6584.12</td>\n",
       "      <td>W 52 St &amp; 6 Ave</td>\n",
       "      <td>6740.01</td>\n",
       "      <td>40.755102</td>\n",
       "      <td>-73.974986</td>\n",
       "      <td>40.761330</td>\n",
       "      <td>-73.979820</td>\n",
       "      <td>member</td>\n",
       "    </tr>\n",
       "    <tr>\n",
       "      <th>2</th>\n",
       "      <td>431A76830E10408A</td>\n",
       "      <td>docked_bike</td>\n",
       "      <td>2021-04-28 18:05:19</td>\n",
       "      <td>2021-04-28 18:10:48</td>\n",
       "      <td>E 47 St &amp; Park Ave</td>\n",
       "      <td>6584.12</td>\n",
       "      <td>W 52 St &amp; 6 Ave</td>\n",
       "      <td>6740.01</td>\n",
       "      <td>40.755102</td>\n",
       "      <td>-73.974986</td>\n",
       "      <td>40.761330</td>\n",
       "      <td>-73.979820</td>\n",
       "      <td>member</td>\n",
       "    </tr>\n",
       "    <tr>\n",
       "      <th>3</th>\n",
       "      <td>C00248A0ADC009FA</td>\n",
       "      <td>docked_bike</td>\n",
       "      <td>2021-04-20 21:35:47</td>\n",
       "      <td>2021-04-20 21:56:31</td>\n",
       "      <td>Irving Ave &amp; DeKalb Ave</td>\n",
       "      <td>4898.02</td>\n",
       "      <td>Division Ave &amp; Hooper St</td>\n",
       "      <td>5045.05</td>\n",
       "      <td>40.702700</td>\n",
       "      <td>-73.920950</td>\n",
       "      <td>40.706842</td>\n",
       "      <td>-73.954435</td>\n",
       "      <td>casual</td>\n",
       "    </tr>\n",
       "    <tr>\n",
       "      <th>4</th>\n",
       "      <td>BE78810D746EE516</td>\n",
       "      <td>docked_bike</td>\n",
       "      <td>2021-04-30 00:34:54</td>\n",
       "      <td>2021-04-30 01:03:29</td>\n",
       "      <td>3 Ave &amp; E 112 St</td>\n",
       "      <td>7543.15</td>\n",
       "      <td>E 115 St &amp; Lexington Ave</td>\n",
       "      <td>7599.09</td>\n",
       "      <td>40.795508</td>\n",
       "      <td>-73.941606</td>\n",
       "      <td>40.797911</td>\n",
       "      <td>-73.942300</td>\n",
       "      <td>casual</td>\n",
       "    </tr>\n",
       "  </tbody>\n",
       "</table>\n",
       "</div>"
      ],
      "text/plain": [
       "            ride_id rideable_type           started_at             ended_at  \\\n",
       "0  7099F9531C9DA16D   docked_bike  2021-04-28 17:27:24  2021-04-28 17:34:31   \n",
       "1  EDC6F1B1A69A7863   docked_bike  2021-04-27 17:28:02  2021-04-27 17:33:07   \n",
       "2  431A76830E10408A   docked_bike  2021-04-28 18:05:19  2021-04-28 18:10:48   \n",
       "3  C00248A0ADC009FA   docked_bike  2021-04-20 21:35:47  2021-04-20 21:56:31   \n",
       "4  BE78810D746EE516   docked_bike  2021-04-30 00:34:54  2021-04-30 01:03:29   \n",
       "\n",
       "        start_station_name start_station_id          end_station_name  \\\n",
       "0  DeKalb Ave & Hudson Ave          4513.06       Douglass St & 4 Ave   \n",
       "1       E 47 St & Park Ave          6584.12           W 52 St & 6 Ave   \n",
       "2       E 47 St & Park Ave          6584.12           W 52 St & 6 Ave   \n",
       "3  Irving Ave & DeKalb Ave          4898.02  Division Ave & Hooper St   \n",
       "4         3 Ave & E 112 St          7543.15  E 115 St & Lexington Ave   \n",
       "\n",
       "  end_station_id  start_lat  start_lng    end_lat    end_lng member_casual  \n",
       "0        4175.14  40.689888 -73.981013  40.679279 -73.981540        member  \n",
       "1        6740.01  40.755102 -73.974986  40.761330 -73.979820        member  \n",
       "2        6740.01  40.755102 -73.974986  40.761330 -73.979820        member  \n",
       "3        5045.05  40.702700 -73.920950  40.706842 -73.954435        casual  \n",
       "4        7599.09  40.795508 -73.941606  40.797911 -73.942300        casual  "
      ]
     },
     "execution_count": 102,
     "metadata": {},
     "output_type": "execute_result"
    }
   ],
   "source": [
    "csvpath21 = \"202104-citibike-tripdata.csv\"\n",
    "csvpath20 = \"202004-citibike-tripdata.csv\"\n",
    "april20 = pd.read_csv(csvpath20)\n",
    "april20 = april20.reset_index(drop = True)\n",
    "april21 = pd.read_csv(csvpath21)\n",
    "april21 = april21.reset_index(drop = True)\n",
    "april21.head()"
   ]
  },
  {
   "cell_type": "code",
   "execution_count": 103,
   "id": "9e13804d-6412-412f-abfb-d461a7cc265f",
   "metadata": {},
   "outputs": [
    {
     "data": {
      "text/plain": [
       "Index(['ride_id', 'rideable_type', 'started_at', 'ended_at',\n",
       "       'start_station_name', 'start_station_id', 'end_station_name',\n",
       "       'end_station_id', 'start_lat', 'start_lng', 'end_lat', 'end_lng',\n",
       "       'member_casual'],\n",
       "      dtype='object')"
      ]
     },
     "execution_count": 103,
     "metadata": {},
     "output_type": "execute_result"
    }
   ],
   "source": [
    "april21.columns"
   ]
  },
  {
   "cell_type": "markdown",
   "id": "668875f0-593b-41e4-adae-ee91c9411bb4",
   "metadata": {},
   "source": [
    "### Change start and end station ID to String"
   ]
  },
  {
   "cell_type": "code",
   "execution_count": 104,
   "id": "26513376-7dcf-44d8-8584-708facf19673",
   "metadata": {},
   "outputs": [],
   "source": [
    "april21[['start_station_id', 'end_station_id']] = april21[['start_station_id', 'end_station_id']].astype(str)"
   ]
  },
  {
   "cell_type": "markdown",
   "id": "59f8eef5-8e50-43d8-bd36-569d601d3ea6",
   "metadata": {},
   "source": [
    "### Look for dups"
   ]
  },
  {
   "cell_type": "code",
   "execution_count": 105,
   "id": "860c44e5-9f1a-45b8-af52-d9483deac52a",
   "metadata": {},
   "outputs": [
    {
     "data": {
      "text/plain": [
       "0"
      ]
     },
     "execution_count": 105,
     "metadata": {},
     "output_type": "execute_result"
    }
   ],
   "source": [
    "april21.ride_id.duplicated().sum()"
   ]
  },
  {
   "cell_type": "code",
   "execution_count": 106,
   "id": "e80ae200-db04-4a96-92de-367d0e17aac0",
   "metadata": {},
   "outputs": [
    {
     "data": {
      "text/plain": [
       "0"
      ]
     },
     "execution_count": 106,
     "metadata": {},
     "output_type": "execute_result"
    }
   ],
   "source": [
    "april21.duplicated().sum()"
   ]
  },
  {
   "cell_type": "code",
   "execution_count": 107,
   "id": "9f48a98f-ec5f-4e2e-9149-783158dd8667",
   "metadata": {},
   "outputs": [
    {
     "data": {
      "text/plain": [
       "ride_id                object\n",
       "rideable_type          object\n",
       "started_at             object\n",
       "ended_at               object\n",
       "start_station_name     object\n",
       "start_station_id       object\n",
       "end_station_name       object\n",
       "end_station_id         object\n",
       "start_lat             float64\n",
       "start_lng             float64\n",
       "end_lat               float64\n",
       "end_lng               float64\n",
       "member_casual          object\n",
       "dtype: object"
      ]
     },
     "execution_count": 107,
     "metadata": {},
     "output_type": "execute_result"
    }
   ],
   "source": [
    "april21.dtypes"
   ]
  },
  {
   "cell_type": "markdown",
   "id": "b115b8c7-eb1b-4361-bc1b-f6efb4eee31f",
   "metadata": {},
   "source": [
    "### Look at number of rows and columns and NaN find % missing"
   ]
  },
  {
   "cell_type": "code",
   "execution_count": 108,
   "id": "3fe6531a-42a1-4bf3-9a43-64eb9a286c9e",
   "metadata": {},
   "outputs": [
    {
     "data": {
      "text/plain": [
       "(2067669, 13)"
      ]
     },
     "execution_count": 108,
     "metadata": {},
     "output_type": "execute_result"
    }
   ],
   "source": [
    "april21.shape"
   ]
  },
  {
   "cell_type": "code",
   "execution_count": 109,
   "id": "1e39c958-bea5-47ad-96db-6e40c09a33a4",
   "metadata": {},
   "outputs": [
    {
     "data": {
      "text/html": [
       "<div>\n",
       "<style scoped>\n",
       "    .dataframe tbody tr th:only-of-type {\n",
       "        vertical-align: middle;\n",
       "    }\n",
       "\n",
       "    .dataframe tbody tr th {\n",
       "        vertical-align: top;\n",
       "    }\n",
       "\n",
       "    .dataframe thead th {\n",
       "        text-align: right;\n",
       "    }\n",
       "</style>\n",
       "<table border=\"1\" class=\"dataframe\">\n",
       "  <thead>\n",
       "    <tr style=\"text-align: right;\">\n",
       "      <th></th>\n",
       "      <th>ride_id</th>\n",
       "      <th>rideable_type</th>\n",
       "      <th>started_at</th>\n",
       "      <th>ended_at</th>\n",
       "      <th>start_station_name</th>\n",
       "      <th>start_station_id</th>\n",
       "      <th>end_station_name</th>\n",
       "      <th>end_station_id</th>\n",
       "      <th>start_lat</th>\n",
       "      <th>start_lng</th>\n",
       "      <th>end_lat</th>\n",
       "      <th>end_lng</th>\n",
       "      <th>member_casual</th>\n",
       "    </tr>\n",
       "  </thead>\n",
       "  <tbody>\n",
       "    <tr>\n",
       "      <th>0</th>\n",
       "      <td>False</td>\n",
       "      <td>False</td>\n",
       "      <td>False</td>\n",
       "      <td>False</td>\n",
       "      <td>False</td>\n",
       "      <td>False</td>\n",
       "      <td>False</td>\n",
       "      <td>False</td>\n",
       "      <td>False</td>\n",
       "      <td>False</td>\n",
       "      <td>False</td>\n",
       "      <td>False</td>\n",
       "      <td>False</td>\n",
       "    </tr>\n",
       "    <tr>\n",
       "      <th>1</th>\n",
       "      <td>False</td>\n",
       "      <td>False</td>\n",
       "      <td>False</td>\n",
       "      <td>False</td>\n",
       "      <td>False</td>\n",
       "      <td>False</td>\n",
       "      <td>False</td>\n",
       "      <td>False</td>\n",
       "      <td>False</td>\n",
       "      <td>False</td>\n",
       "      <td>False</td>\n",
       "      <td>False</td>\n",
       "      <td>False</td>\n",
       "    </tr>\n",
       "    <tr>\n",
       "      <th>2</th>\n",
       "      <td>False</td>\n",
       "      <td>False</td>\n",
       "      <td>False</td>\n",
       "      <td>False</td>\n",
       "      <td>False</td>\n",
       "      <td>False</td>\n",
       "      <td>False</td>\n",
       "      <td>False</td>\n",
       "      <td>False</td>\n",
       "      <td>False</td>\n",
       "      <td>False</td>\n",
       "      <td>False</td>\n",
       "      <td>False</td>\n",
       "    </tr>\n",
       "    <tr>\n",
       "      <th>3</th>\n",
       "      <td>False</td>\n",
       "      <td>False</td>\n",
       "      <td>False</td>\n",
       "      <td>False</td>\n",
       "      <td>False</td>\n",
       "      <td>False</td>\n",
       "      <td>False</td>\n",
       "      <td>False</td>\n",
       "      <td>False</td>\n",
       "      <td>False</td>\n",
       "      <td>False</td>\n",
       "      <td>False</td>\n",
       "      <td>False</td>\n",
       "    </tr>\n",
       "    <tr>\n",
       "      <th>4</th>\n",
       "      <td>False</td>\n",
       "      <td>False</td>\n",
       "      <td>False</td>\n",
       "      <td>False</td>\n",
       "      <td>False</td>\n",
       "      <td>False</td>\n",
       "      <td>False</td>\n",
       "      <td>False</td>\n",
       "      <td>False</td>\n",
       "      <td>False</td>\n",
       "      <td>False</td>\n",
       "      <td>False</td>\n",
       "      <td>False</td>\n",
       "    </tr>\n",
       "  </tbody>\n",
       "</table>\n",
       "</div>"
      ],
      "text/plain": [
       "   ride_id  rideable_type  started_at  ended_at  start_station_name  \\\n",
       "0    False          False       False     False               False   \n",
       "1    False          False       False     False               False   \n",
       "2    False          False       False     False               False   \n",
       "3    False          False       False     False               False   \n",
       "4    False          False       False     False               False   \n",
       "\n",
       "   start_station_id  end_station_name  end_station_id  start_lat  start_lng  \\\n",
       "0             False             False           False      False      False   \n",
       "1             False             False           False      False      False   \n",
       "2             False             False           False      False      False   \n",
       "3             False             False           False      False      False   \n",
       "4             False             False           False      False      False   \n",
       "\n",
       "   end_lat  end_lng  member_casual  \n",
       "0    False    False          False  \n",
       "1    False    False          False  \n",
       "2    False    False          False  \n",
       "3    False    False          False  \n",
       "4    False    False          False  "
      ]
     },
     "execution_count": 109,
     "metadata": {},
     "output_type": "execute_result"
    }
   ],
   "source": [
    "april21_missing = april21.isna()\n",
    "april21_missing.head()"
   ]
  },
  {
   "cell_type": "code",
   "execution_count": 110,
   "id": "ee5bca04-f8c0-4318-bc21-4ae415d7d148",
   "metadata": {},
   "outputs": [
    {
     "data": {
      "text/plain": [
       "ride_id                  0\n",
       "rideable_type            0\n",
       "started_at               0\n",
       "ended_at                 0\n",
       "start_station_name     110\n",
       "start_station_id         0\n",
       "end_station_name      3385\n",
       "end_station_id           0\n",
       "start_lat                0\n",
       "start_lng                0\n",
       "end_lat               3315\n",
       "end_lng               3315\n",
       "member_casual            0\n",
       "dtype: int64"
      ]
     },
     "execution_count": 110,
     "metadata": {},
     "output_type": "execute_result"
    }
   ],
   "source": [
    "april21_num_missing = april21_missing.sum()\n",
    "april21_num_missing"
   ]
  },
  {
   "cell_type": "code",
   "execution_count": 111,
   "id": "9a9c0d6e-adaa-4e93-9985-1121a73598a5",
   "metadata": {},
   "outputs": [
    {
     "data": {
      "text/plain": [
       "ride_id               0.000000\n",
       "rideable_type         0.000000\n",
       "started_at            0.000000\n",
       "ended_at              0.000000\n",
       "start_station_name    0.000053\n",
       "start_station_id      0.000000\n",
       "end_station_name      0.001637\n",
       "end_station_id        0.000000\n",
       "start_lat             0.000000\n",
       "start_lng             0.000000\n",
       "end_lat               0.001603\n",
       "end_lng               0.001603\n",
       "member_casual         0.000000\n",
       "dtype: float64"
      ]
     },
     "execution_count": 111,
     "metadata": {},
     "output_type": "execute_result"
    }
   ],
   "source": [
    "april21_num_missing/len(april21)"
   ]
  },
  {
   "cell_type": "code",
   "execution_count": 112,
   "id": "c250e2d1-c048-4d8d-858e-0d206dbcb15a",
   "metadata": {},
   "outputs": [
    {
     "data": {
      "text/plain": [
       "ride_id               0.00\n",
       "rideable_type         0.00\n",
       "started_at            0.00\n",
       "ended_at              0.00\n",
       "start_station_name    0.01\n",
       "start_station_id      0.00\n",
       "end_station_name      0.16\n",
       "end_station_id        0.00\n",
       "start_lat             0.00\n",
       "start_lng             0.00\n",
       "end_lat               0.16\n",
       "end_lng               0.16\n",
       "member_casual         0.00\n",
       "dtype: float64"
      ]
     },
     "execution_count": 112,
     "metadata": {},
     "output_type": "execute_result"
    }
   ],
   "source": [
    "april21.isna().mean().round(4)*100"
   ]
  },
  {
   "cell_type": "code",
   "execution_count": 113,
   "id": "a62a255d-82f9-4bf9-8b15-35b00789cc28",
   "metadata": {},
   "outputs": [
    {
     "data": {
      "text/plain": [
       "(2064277, 13)"
      ]
     },
     "execution_count": 113,
     "metadata": {},
     "output_type": "execute_result"
    }
   ],
   "source": [
    "april21_na = april21.dropna()\n",
    "april21_na.shape"
   ]
  },
  {
   "cell_type": "code",
   "execution_count": 114,
   "id": "1d8d9d9c-794d-4388-9a0f-153259b2f2be",
   "metadata": {},
   "outputs": [
    {
     "data": {
      "text/plain": [
       "array(['member', 'casual'], dtype=object)"
      ]
     },
     "execution_count": 114,
     "metadata": {},
     "output_type": "execute_result"
    }
   ],
   "source": [
    "april21.member_casual.unique()"
   ]
  },
  {
   "cell_type": "markdown",
   "id": "d38a86d3-6695-43d6-b046-a86e43de094b",
   "metadata": {},
   "source": [
    "### Add a Year column"
   ]
  },
  {
   "cell_type": "code",
   "execution_count": 115,
   "id": "f7dde5a5-3e04-4e47-baf6-2362ffb88320",
   "metadata": {},
   "outputs": [
    {
     "name": "stderr",
     "output_type": "stream",
     "text": [
      "<ipython-input-115-071db97f5fdd>:1: SettingWithCopyWarning: \n",
      "A value is trying to be set on a copy of a slice from a DataFrame.\n",
      "Try using .loc[row_indexer,col_indexer] = value instead\n",
      "\n",
      "See the caveats in the documentation: https://pandas.pydata.org/pandas-docs/stable/user_guide/indexing.html#returning-a-view-versus-a-copy\n",
      "  april21_na['Year'] = '2021'\n"
     ]
    },
    {
     "data": {
      "text/plain": [
       "Index(['ride_id', 'rideable_type', 'started_at', 'ended_at',\n",
       "       'start_station_name', 'start_station_id', 'end_station_name',\n",
       "       'end_station_id', 'start_lat', 'start_lng', 'end_lat', 'end_lng',\n",
       "       'member_casual', 'Year'],\n",
       "      dtype='object')"
      ]
     },
     "execution_count": 115,
     "metadata": {},
     "output_type": "execute_result"
    }
   ],
   "source": [
    "april21_na['Year'] = '2021'\n",
    "april21_na.columns\n"
   ]
  },
  {
   "cell_type": "markdown",
   "id": "5c64553a-470b-467e-99f0-5dda8d98a9a6",
   "metadata": {},
   "source": [
    "### Drop unwanted cols from 2021"
   ]
  },
  {
   "cell_type": "code",
   "execution_count": 116,
   "id": "bc1eb932-5376-430a-8b58-71797a6c57a7",
   "metadata": {},
   "outputs": [
    {
     "data": {
      "text/plain": [
       "Index(['started_at', 'ended_at', 'start_station_name', 'start_station_id',\n",
       "       'end_station_name', 'end_station_id', 'start_lat', 'start_lng',\n",
       "       'end_lat', 'end_lng', 'member_casual', 'Year'],\n",
       "      dtype='object')"
      ]
     },
     "execution_count": 116,
     "metadata": {},
     "output_type": "execute_result"
    }
   ],
   "source": [
    "april21_drop = april21_na.drop(['ride_id','rideable_type'],axis = 1)\n",
    "april21_drop.columns"
   ]
  },
  {
   "cell_type": "markdown",
   "id": "13d49dd6-cde2-4395-91f4-fd87c4558edb",
   "metadata": {},
   "source": [
    "### Separate Start/Stop Date and Time into new columns"
   ]
  },
  {
   "cell_type": "code",
   "execution_count": 117,
   "id": "592f87d4-567f-40d6-ae8e-fed2b3bdc6db",
   "metadata": {},
   "outputs": [],
   "source": [
    "april21_drop['started_at_date'] = pd.to_datetime(april21_drop['started_at']).dt.date\n",
    "april21_drop['started_at_time'] = pd.to_datetime(april21_drop['started_at']).dt.time"
   ]
  },
  {
   "cell_type": "code",
   "execution_count": 118,
   "id": "5aaad3c7-a199-4417-8db9-950c582e3ec8",
   "metadata": {},
   "outputs": [
    {
     "data": {
      "text/html": [
       "<div>\n",
       "<style scoped>\n",
       "    .dataframe tbody tr th:only-of-type {\n",
       "        vertical-align: middle;\n",
       "    }\n",
       "\n",
       "    .dataframe tbody tr th {\n",
       "        vertical-align: top;\n",
       "    }\n",
       "\n",
       "    .dataframe thead th {\n",
       "        text-align: right;\n",
       "    }\n",
       "</style>\n",
       "<table border=\"1\" class=\"dataframe\">\n",
       "  <thead>\n",
       "    <tr style=\"text-align: right;\">\n",
       "      <th></th>\n",
       "      <th>started_at</th>\n",
       "      <th>ended_at</th>\n",
       "      <th>start_station_name</th>\n",
       "      <th>start_station_id</th>\n",
       "      <th>end_station_name</th>\n",
       "      <th>end_station_id</th>\n",
       "      <th>start_lat</th>\n",
       "      <th>start_lng</th>\n",
       "      <th>end_lat</th>\n",
       "      <th>end_lng</th>\n",
       "      <th>member_casual</th>\n",
       "      <th>Year</th>\n",
       "      <th>started_at_date</th>\n",
       "      <th>started_at_time</th>\n",
       "    </tr>\n",
       "  </thead>\n",
       "  <tbody>\n",
       "    <tr>\n",
       "      <th>0</th>\n",
       "      <td>2021-04-28 17:27:24</td>\n",
       "      <td>2021-04-28 17:34:31</td>\n",
       "      <td>DeKalb Ave &amp; Hudson Ave</td>\n",
       "      <td>4513.06</td>\n",
       "      <td>Douglass St &amp; 4 Ave</td>\n",
       "      <td>4175.14</td>\n",
       "      <td>40.689888</td>\n",
       "      <td>-73.981013</td>\n",
       "      <td>40.679279</td>\n",
       "      <td>-73.981540</td>\n",
       "      <td>member</td>\n",
       "      <td>2021</td>\n",
       "      <td>2021-04-28</td>\n",
       "      <td>17:27:24</td>\n",
       "    </tr>\n",
       "    <tr>\n",
       "      <th>1</th>\n",
       "      <td>2021-04-27 17:28:02</td>\n",
       "      <td>2021-04-27 17:33:07</td>\n",
       "      <td>E 47 St &amp; Park Ave</td>\n",
       "      <td>6584.12</td>\n",
       "      <td>W 52 St &amp; 6 Ave</td>\n",
       "      <td>6740.01</td>\n",
       "      <td>40.755102</td>\n",
       "      <td>-73.974986</td>\n",
       "      <td>40.761330</td>\n",
       "      <td>-73.979820</td>\n",
       "      <td>member</td>\n",
       "      <td>2021</td>\n",
       "      <td>2021-04-27</td>\n",
       "      <td>17:28:02</td>\n",
       "    </tr>\n",
       "    <tr>\n",
       "      <th>2</th>\n",
       "      <td>2021-04-28 18:05:19</td>\n",
       "      <td>2021-04-28 18:10:48</td>\n",
       "      <td>E 47 St &amp; Park Ave</td>\n",
       "      <td>6584.12</td>\n",
       "      <td>W 52 St &amp; 6 Ave</td>\n",
       "      <td>6740.01</td>\n",
       "      <td>40.755102</td>\n",
       "      <td>-73.974986</td>\n",
       "      <td>40.761330</td>\n",
       "      <td>-73.979820</td>\n",
       "      <td>member</td>\n",
       "      <td>2021</td>\n",
       "      <td>2021-04-28</td>\n",
       "      <td>18:05:19</td>\n",
       "    </tr>\n",
       "    <tr>\n",
       "      <th>3</th>\n",
       "      <td>2021-04-20 21:35:47</td>\n",
       "      <td>2021-04-20 21:56:31</td>\n",
       "      <td>Irving Ave &amp; DeKalb Ave</td>\n",
       "      <td>4898.02</td>\n",
       "      <td>Division Ave &amp; Hooper St</td>\n",
       "      <td>5045.05</td>\n",
       "      <td>40.702700</td>\n",
       "      <td>-73.920950</td>\n",
       "      <td>40.706842</td>\n",
       "      <td>-73.954435</td>\n",
       "      <td>casual</td>\n",
       "      <td>2021</td>\n",
       "      <td>2021-04-20</td>\n",
       "      <td>21:35:47</td>\n",
       "    </tr>\n",
       "    <tr>\n",
       "      <th>4</th>\n",
       "      <td>2021-04-30 00:34:54</td>\n",
       "      <td>2021-04-30 01:03:29</td>\n",
       "      <td>3 Ave &amp; E 112 St</td>\n",
       "      <td>7543.15</td>\n",
       "      <td>E 115 St &amp; Lexington Ave</td>\n",
       "      <td>7599.09</td>\n",
       "      <td>40.795508</td>\n",
       "      <td>-73.941606</td>\n",
       "      <td>40.797911</td>\n",
       "      <td>-73.942300</td>\n",
       "      <td>casual</td>\n",
       "      <td>2021</td>\n",
       "      <td>2021-04-30</td>\n",
       "      <td>00:34:54</td>\n",
       "    </tr>\n",
       "  </tbody>\n",
       "</table>\n",
       "</div>"
      ],
      "text/plain": [
       "            started_at             ended_at       start_station_name  \\\n",
       "0  2021-04-28 17:27:24  2021-04-28 17:34:31  DeKalb Ave & Hudson Ave   \n",
       "1  2021-04-27 17:28:02  2021-04-27 17:33:07       E 47 St & Park Ave   \n",
       "2  2021-04-28 18:05:19  2021-04-28 18:10:48       E 47 St & Park Ave   \n",
       "3  2021-04-20 21:35:47  2021-04-20 21:56:31  Irving Ave & DeKalb Ave   \n",
       "4  2021-04-30 00:34:54  2021-04-30 01:03:29         3 Ave & E 112 St   \n",
       "\n",
       "  start_station_id          end_station_name end_station_id  start_lat  \\\n",
       "0          4513.06       Douglass St & 4 Ave        4175.14  40.689888   \n",
       "1          6584.12           W 52 St & 6 Ave        6740.01  40.755102   \n",
       "2          6584.12           W 52 St & 6 Ave        6740.01  40.755102   \n",
       "3          4898.02  Division Ave & Hooper St        5045.05  40.702700   \n",
       "4          7543.15  E 115 St & Lexington Ave        7599.09  40.795508   \n",
       "\n",
       "   start_lng    end_lat    end_lng member_casual  Year started_at_date  \\\n",
       "0 -73.981013  40.679279 -73.981540        member  2021      2021-04-28   \n",
       "1 -73.974986  40.761330 -73.979820        member  2021      2021-04-27   \n",
       "2 -73.974986  40.761330 -73.979820        member  2021      2021-04-28   \n",
       "3 -73.920950  40.706842 -73.954435        casual  2021      2021-04-20   \n",
       "4 -73.941606  40.797911 -73.942300        casual  2021      2021-04-30   \n",
       "\n",
       "  started_at_time  \n",
       "0        17:27:24  \n",
       "1        17:28:02  \n",
       "2        18:05:19  \n",
       "3        21:35:47  \n",
       "4        00:34:54  "
      ]
     },
     "execution_count": 118,
     "metadata": {},
     "output_type": "execute_result"
    }
   ],
   "source": [
    "april21_drop.head()"
   ]
  },
  {
   "cell_type": "code",
   "execution_count": 119,
   "id": "c618d016-e1d4-433e-bef7-1e9c6d90c4f6",
   "metadata": {},
   "outputs": [
    {
     "data": {
      "text/html": [
       "<div>\n",
       "<style scoped>\n",
       "    .dataframe tbody tr th:only-of-type {\n",
       "        vertical-align: middle;\n",
       "    }\n",
       "\n",
       "    .dataframe tbody tr th {\n",
       "        vertical-align: top;\n",
       "    }\n",
       "\n",
       "    .dataframe thead th {\n",
       "        text-align: right;\n",
       "    }\n",
       "</style>\n",
       "<table border=\"1\" class=\"dataframe\">\n",
       "  <thead>\n",
       "    <tr style=\"text-align: right;\">\n",
       "      <th></th>\n",
       "      <th>started_at</th>\n",
       "      <th>ended_at</th>\n",
       "      <th>start_station_name</th>\n",
       "      <th>start_station_id</th>\n",
       "      <th>end_station_name</th>\n",
       "      <th>end_station_id</th>\n",
       "      <th>start_lat</th>\n",
       "      <th>start_lng</th>\n",
       "      <th>end_lat</th>\n",
       "      <th>end_lng</th>\n",
       "      <th>member_casual</th>\n",
       "      <th>Year</th>\n",
       "      <th>started_at_date</th>\n",
       "      <th>started_at_time</th>\n",
       "      <th>ended_at_date</th>\n",
       "      <th>ended_at_time</th>\n",
       "    </tr>\n",
       "  </thead>\n",
       "  <tbody>\n",
       "    <tr>\n",
       "      <th>0</th>\n",
       "      <td>2021-04-28 17:27:24</td>\n",
       "      <td>2021-04-28 17:34:31</td>\n",
       "      <td>DeKalb Ave &amp; Hudson Ave</td>\n",
       "      <td>4513.06</td>\n",
       "      <td>Douglass St &amp; 4 Ave</td>\n",
       "      <td>4175.14</td>\n",
       "      <td>40.689888</td>\n",
       "      <td>-73.981013</td>\n",
       "      <td>40.679279</td>\n",
       "      <td>-73.981540</td>\n",
       "      <td>member</td>\n",
       "      <td>2021</td>\n",
       "      <td>2021-04-28</td>\n",
       "      <td>17:27:24</td>\n",
       "      <td>2021-04-28</td>\n",
       "      <td>17:34:31</td>\n",
       "    </tr>\n",
       "    <tr>\n",
       "      <th>1</th>\n",
       "      <td>2021-04-27 17:28:02</td>\n",
       "      <td>2021-04-27 17:33:07</td>\n",
       "      <td>E 47 St &amp; Park Ave</td>\n",
       "      <td>6584.12</td>\n",
       "      <td>W 52 St &amp; 6 Ave</td>\n",
       "      <td>6740.01</td>\n",
       "      <td>40.755102</td>\n",
       "      <td>-73.974986</td>\n",
       "      <td>40.761330</td>\n",
       "      <td>-73.979820</td>\n",
       "      <td>member</td>\n",
       "      <td>2021</td>\n",
       "      <td>2021-04-27</td>\n",
       "      <td>17:28:02</td>\n",
       "      <td>2021-04-27</td>\n",
       "      <td>17:33:07</td>\n",
       "    </tr>\n",
       "    <tr>\n",
       "      <th>2</th>\n",
       "      <td>2021-04-28 18:05:19</td>\n",
       "      <td>2021-04-28 18:10:48</td>\n",
       "      <td>E 47 St &amp; Park Ave</td>\n",
       "      <td>6584.12</td>\n",
       "      <td>W 52 St &amp; 6 Ave</td>\n",
       "      <td>6740.01</td>\n",
       "      <td>40.755102</td>\n",
       "      <td>-73.974986</td>\n",
       "      <td>40.761330</td>\n",
       "      <td>-73.979820</td>\n",
       "      <td>member</td>\n",
       "      <td>2021</td>\n",
       "      <td>2021-04-28</td>\n",
       "      <td>18:05:19</td>\n",
       "      <td>2021-04-28</td>\n",
       "      <td>18:10:48</td>\n",
       "    </tr>\n",
       "    <tr>\n",
       "      <th>3</th>\n",
       "      <td>2021-04-20 21:35:47</td>\n",
       "      <td>2021-04-20 21:56:31</td>\n",
       "      <td>Irving Ave &amp; DeKalb Ave</td>\n",
       "      <td>4898.02</td>\n",
       "      <td>Division Ave &amp; Hooper St</td>\n",
       "      <td>5045.05</td>\n",
       "      <td>40.702700</td>\n",
       "      <td>-73.920950</td>\n",
       "      <td>40.706842</td>\n",
       "      <td>-73.954435</td>\n",
       "      <td>casual</td>\n",
       "      <td>2021</td>\n",
       "      <td>2021-04-20</td>\n",
       "      <td>21:35:47</td>\n",
       "      <td>2021-04-20</td>\n",
       "      <td>21:56:31</td>\n",
       "    </tr>\n",
       "    <tr>\n",
       "      <th>4</th>\n",
       "      <td>2021-04-30 00:34:54</td>\n",
       "      <td>2021-04-30 01:03:29</td>\n",
       "      <td>3 Ave &amp; E 112 St</td>\n",
       "      <td>7543.15</td>\n",
       "      <td>E 115 St &amp; Lexington Ave</td>\n",
       "      <td>7599.09</td>\n",
       "      <td>40.795508</td>\n",
       "      <td>-73.941606</td>\n",
       "      <td>40.797911</td>\n",
       "      <td>-73.942300</td>\n",
       "      <td>casual</td>\n",
       "      <td>2021</td>\n",
       "      <td>2021-04-30</td>\n",
       "      <td>00:34:54</td>\n",
       "      <td>2021-04-30</td>\n",
       "      <td>01:03:29</td>\n",
       "    </tr>\n",
       "  </tbody>\n",
       "</table>\n",
       "</div>"
      ],
      "text/plain": [
       "            started_at             ended_at       start_station_name  \\\n",
       "0  2021-04-28 17:27:24  2021-04-28 17:34:31  DeKalb Ave & Hudson Ave   \n",
       "1  2021-04-27 17:28:02  2021-04-27 17:33:07       E 47 St & Park Ave   \n",
       "2  2021-04-28 18:05:19  2021-04-28 18:10:48       E 47 St & Park Ave   \n",
       "3  2021-04-20 21:35:47  2021-04-20 21:56:31  Irving Ave & DeKalb Ave   \n",
       "4  2021-04-30 00:34:54  2021-04-30 01:03:29         3 Ave & E 112 St   \n",
       "\n",
       "  start_station_id          end_station_name end_station_id  start_lat  \\\n",
       "0          4513.06       Douglass St & 4 Ave        4175.14  40.689888   \n",
       "1          6584.12           W 52 St & 6 Ave        6740.01  40.755102   \n",
       "2          6584.12           W 52 St & 6 Ave        6740.01  40.755102   \n",
       "3          4898.02  Division Ave & Hooper St        5045.05  40.702700   \n",
       "4          7543.15  E 115 St & Lexington Ave        7599.09  40.795508   \n",
       "\n",
       "   start_lng    end_lat    end_lng member_casual  Year started_at_date  \\\n",
       "0 -73.981013  40.679279 -73.981540        member  2021      2021-04-28   \n",
       "1 -73.974986  40.761330 -73.979820        member  2021      2021-04-27   \n",
       "2 -73.974986  40.761330 -73.979820        member  2021      2021-04-28   \n",
       "3 -73.920950  40.706842 -73.954435        casual  2021      2021-04-20   \n",
       "4 -73.941606  40.797911 -73.942300        casual  2021      2021-04-30   \n",
       "\n",
       "  started_at_time ended_at_date ended_at_time  \n",
       "0        17:27:24    2021-04-28      17:34:31  \n",
       "1        17:28:02    2021-04-27      17:33:07  \n",
       "2        18:05:19    2021-04-28      18:10:48  \n",
       "3        21:35:47    2021-04-20      21:56:31  \n",
       "4        00:34:54    2021-04-30      01:03:29  "
      ]
     },
     "execution_count": 119,
     "metadata": {},
     "output_type": "execute_result"
    }
   ],
   "source": [
    "april21_drop['ended_at_date'] = pd.to_datetime(april21_drop['ended_at']).dt.date\n",
    "april21_drop['ended_at_time'] = pd.to_datetime(april21_drop['ended_at']).dt.time\n",
    "april21_drop.head()"
   ]
  },
  {
   "cell_type": "code",
   "execution_count": null,
   "id": "ac3c614f-27e8-415f-b538-94c911acb205",
   "metadata": {},
   "outputs": [],
   "source": []
  },
  {
   "cell_type": "markdown",
   "id": "790987c8-498b-4d88-902f-1fae62c7fb49",
   "metadata": {},
   "source": [
    "### Clean April 2020 Data"
   ]
  },
  {
   "cell_type": "code",
   "execution_count": 120,
   "id": "28e5fa93-7061-4f85-88a4-f4f2ed6709e7",
   "metadata": {},
   "outputs": [
    {
     "data": {
      "text/plain": [
       "Index(['tripduration', 'starttime', 'stoptime', 'start station id',\n",
       "       'start station name', 'start station latitude',\n",
       "       'start station longitude', 'end station id', 'end station name',\n",
       "       'end station latitude', 'end station longitude', 'bikeid', 'usertype',\n",
       "       'birth year', 'gender'],\n",
       "      dtype='object')"
      ]
     },
     "execution_count": 120,
     "metadata": {},
     "output_type": "execute_result"
    }
   ],
   "source": [
    "april20.columns"
   ]
  },
  {
   "cell_type": "code",
   "execution_count": 121,
   "id": "b82b4530-9e7b-4abd-bbf6-4033c552503e",
   "metadata": {},
   "outputs": [
    {
     "data": {
      "text/plain": [
       "Index(['started_at', 'ended_at', 'start_station_name', 'start_station_id',\n",
       "       'end_station_name', 'end_station_id', 'start_lat', 'start_lng',\n",
       "       'end_lat', 'end_lng', 'member_casual', 'Year', 'started_at_date',\n",
       "       'started_at_time', 'ended_at_date', 'ended_at_time'],\n",
       "      dtype='object')"
      ]
     },
     "execution_count": 121,
     "metadata": {},
     "output_type": "execute_result"
    }
   ],
   "source": [
    "april21_drop.columns"
   ]
  },
  {
   "cell_type": "code",
   "execution_count": 122,
   "id": "e3f874ab-f90a-4487-b88d-28bce39232ac",
   "metadata": {},
   "outputs": [
    {
     "data": {
      "text/html": [
       "<div>\n",
       "<style scoped>\n",
       "    .dataframe tbody tr th:only-of-type {\n",
       "        vertical-align: middle;\n",
       "    }\n",
       "\n",
       "    .dataframe tbody tr th {\n",
       "        vertical-align: top;\n",
       "    }\n",
       "\n",
       "    .dataframe thead th {\n",
       "        text-align: right;\n",
       "    }\n",
       "</style>\n",
       "<table border=\"1\" class=\"dataframe\">\n",
       "  <thead>\n",
       "    <tr style=\"text-align: right;\">\n",
       "      <th></th>\n",
       "      <th>tripduration</th>\n",
       "      <th>starttime</th>\n",
       "      <th>stoptime</th>\n",
       "      <th>start station id</th>\n",
       "      <th>start station name</th>\n",
       "      <th>start station latitude</th>\n",
       "      <th>start station longitude</th>\n",
       "      <th>end station id</th>\n",
       "      <th>end station name</th>\n",
       "      <th>end station latitude</th>\n",
       "      <th>end station longitude</th>\n",
       "      <th>bikeid</th>\n",
       "      <th>usertype</th>\n",
       "      <th>birth year</th>\n",
       "      <th>gender</th>\n",
       "    </tr>\n",
       "  </thead>\n",
       "  <tbody>\n",
       "    <tr>\n",
       "      <th>0</th>\n",
       "      <td>534</td>\n",
       "      <td>2020-04-01 00:00:15.2800</td>\n",
       "      <td>2020-04-01 00:09:09.8730</td>\n",
       "      <td>3656</td>\n",
       "      <td>E 2 St &amp; Avenue A</td>\n",
       "      <td>40.723077</td>\n",
       "      <td>-73.985836</td>\n",
       "      <td>545</td>\n",
       "      <td>E 23 St &amp; 1 Ave</td>\n",
       "      <td>40.736502</td>\n",
       "      <td>-73.978095</td>\n",
       "      <td>15162</td>\n",
       "      <td>Subscriber</td>\n",
       "      <td>1990</td>\n",
       "      <td>2</td>\n",
       "    </tr>\n",
       "    <tr>\n",
       "      <th>1</th>\n",
       "      <td>529</td>\n",
       "      <td>2020-04-01 00:02:28.9430</td>\n",
       "      <td>2020-04-01 00:11:18.3410</td>\n",
       "      <td>3163</td>\n",
       "      <td>Central Park West &amp; W 68 St</td>\n",
       "      <td>40.773407</td>\n",
       "      <td>-73.977825</td>\n",
       "      <td>3301</td>\n",
       "      <td>Columbus Ave &amp; W 95 St</td>\n",
       "      <td>40.791956</td>\n",
       "      <td>-73.968087</td>\n",
       "      <td>42861</td>\n",
       "      <td>Subscriber</td>\n",
       "      <td>1974</td>\n",
       "      <td>1</td>\n",
       "    </tr>\n",
       "    <tr>\n",
       "      <th>2</th>\n",
       "      <td>1488</td>\n",
       "      <td>2020-04-01 00:02:56.0900</td>\n",
       "      <td>2020-04-01 00:27:44.2530</td>\n",
       "      <td>3164</td>\n",
       "      <td>Columbus Ave &amp; W 72 St</td>\n",
       "      <td>40.777057</td>\n",
       "      <td>-73.978985</td>\n",
       "      <td>3605</td>\n",
       "      <td>31 Ave &amp; Crescent St</td>\n",
       "      <td>40.765835</td>\n",
       "      <td>-73.926547</td>\n",
       "      <td>35989</td>\n",
       "      <td>Subscriber</td>\n",
       "      <td>1982</td>\n",
       "      <td>1</td>\n",
       "    </tr>\n",
       "    <tr>\n",
       "      <th>3</th>\n",
       "      <td>341</td>\n",
       "      <td>2020-04-01 00:03:25.1410</td>\n",
       "      <td>2020-04-01 00:09:06.3190</td>\n",
       "      <td>3827</td>\n",
       "      <td>Halsey St &amp; Broadway</td>\n",
       "      <td>40.685650</td>\n",
       "      <td>-73.915640</td>\n",
       "      <td>3869</td>\n",
       "      <td>Van Buren St &amp; Broadway</td>\n",
       "      <td>40.692000</td>\n",
       "      <td>-73.926170</td>\n",
       "      <td>37548</td>\n",
       "      <td>Subscriber</td>\n",
       "      <td>1996</td>\n",
       "      <td>1</td>\n",
       "    </tr>\n",
       "    <tr>\n",
       "      <th>4</th>\n",
       "      <td>2206</td>\n",
       "      <td>2020-04-01 00:05:35.2790</td>\n",
       "      <td>2020-04-01 00:42:21.9080</td>\n",
       "      <td>3890</td>\n",
       "      <td>Grove St &amp; Broadway</td>\n",
       "      <td>40.690470</td>\n",
       "      <td>-73.923511</td>\n",
       "      <td>3058</td>\n",
       "      <td>Lewis Ave &amp; Kosciuszko St</td>\n",
       "      <td>40.692371</td>\n",
       "      <td>-73.937054</td>\n",
       "      <td>39701</td>\n",
       "      <td>Subscriber</td>\n",
       "      <td>1977</td>\n",
       "      <td>1</td>\n",
       "    </tr>\n",
       "  </tbody>\n",
       "</table>\n",
       "</div>"
      ],
      "text/plain": [
       "   tripduration                 starttime                  stoptime  \\\n",
       "0           534  2020-04-01 00:00:15.2800  2020-04-01 00:09:09.8730   \n",
       "1           529  2020-04-01 00:02:28.9430  2020-04-01 00:11:18.3410   \n",
       "2          1488  2020-04-01 00:02:56.0900  2020-04-01 00:27:44.2530   \n",
       "3           341  2020-04-01 00:03:25.1410  2020-04-01 00:09:06.3190   \n",
       "4          2206  2020-04-01 00:05:35.2790  2020-04-01 00:42:21.9080   \n",
       "\n",
       "   start station id           start station name  start station latitude  \\\n",
       "0              3656            E 2 St & Avenue A               40.723077   \n",
       "1              3163  Central Park West & W 68 St               40.773407   \n",
       "2              3164       Columbus Ave & W 72 St               40.777057   \n",
       "3              3827         Halsey St & Broadway               40.685650   \n",
       "4              3890          Grove St & Broadway               40.690470   \n",
       "\n",
       "   start station longitude  end station id           end station name  \\\n",
       "0               -73.985836             545            E 23 St & 1 Ave   \n",
       "1               -73.977825            3301     Columbus Ave & W 95 St   \n",
       "2               -73.978985            3605       31 Ave & Crescent St   \n",
       "3               -73.915640            3869    Van Buren St & Broadway   \n",
       "4               -73.923511            3058  Lewis Ave & Kosciuszko St   \n",
       "\n",
       "   end station latitude  end station longitude  bikeid    usertype  \\\n",
       "0             40.736502             -73.978095   15162  Subscriber   \n",
       "1             40.791956             -73.968087   42861  Subscriber   \n",
       "2             40.765835             -73.926547   35989  Subscriber   \n",
       "3             40.692000             -73.926170   37548  Subscriber   \n",
       "4             40.692371             -73.937054   39701  Subscriber   \n",
       "\n",
       "   birth year  gender  \n",
       "0        1990       2  \n",
       "1        1974       1  \n",
       "2        1982       1  \n",
       "3        1996       1  \n",
       "4        1977       1  "
      ]
     },
     "execution_count": 122,
     "metadata": {},
     "output_type": "execute_result"
    }
   ],
   "source": [
    "april20.head()"
   ]
  },
  {
   "cell_type": "code",
   "execution_count": 123,
   "id": "bd996d6b-bf99-4190-b75b-ccd5c214176c",
   "metadata": {},
   "outputs": [
    {
     "data": {
      "text/html": [
       "<div>\n",
       "<style scoped>\n",
       "    .dataframe tbody tr th:only-of-type {\n",
       "        vertical-align: middle;\n",
       "    }\n",
       "\n",
       "    .dataframe tbody tr th {\n",
       "        vertical-align: top;\n",
       "    }\n",
       "\n",
       "    .dataframe thead th {\n",
       "        text-align: right;\n",
       "    }\n",
       "</style>\n",
       "<table border=\"1\" class=\"dataframe\">\n",
       "  <thead>\n",
       "    <tr style=\"text-align: right;\">\n",
       "      <th></th>\n",
       "      <th>started_at</th>\n",
       "      <th>ended_at</th>\n",
       "      <th>start_station_name</th>\n",
       "      <th>start_station_id</th>\n",
       "      <th>end_station_name</th>\n",
       "      <th>end_station_id</th>\n",
       "      <th>start_lat</th>\n",
       "      <th>start_lng</th>\n",
       "      <th>end_lat</th>\n",
       "      <th>end_lng</th>\n",
       "      <th>member_casual</th>\n",
       "      <th>Year</th>\n",
       "      <th>started_at_date</th>\n",
       "      <th>started_at_time</th>\n",
       "      <th>ended_at_date</th>\n",
       "      <th>ended_at_time</th>\n",
       "    </tr>\n",
       "  </thead>\n",
       "  <tbody>\n",
       "    <tr>\n",
       "      <th>0</th>\n",
       "      <td>2021-04-28 17:27:24</td>\n",
       "      <td>2021-04-28 17:34:31</td>\n",
       "      <td>DeKalb Ave &amp; Hudson Ave</td>\n",
       "      <td>4513.06</td>\n",
       "      <td>Douglass St &amp; 4 Ave</td>\n",
       "      <td>4175.14</td>\n",
       "      <td>40.689888</td>\n",
       "      <td>-73.981013</td>\n",
       "      <td>40.679279</td>\n",
       "      <td>-73.981540</td>\n",
       "      <td>member</td>\n",
       "      <td>2021</td>\n",
       "      <td>2021-04-28</td>\n",
       "      <td>17:27:24</td>\n",
       "      <td>2021-04-28</td>\n",
       "      <td>17:34:31</td>\n",
       "    </tr>\n",
       "    <tr>\n",
       "      <th>1</th>\n",
       "      <td>2021-04-27 17:28:02</td>\n",
       "      <td>2021-04-27 17:33:07</td>\n",
       "      <td>E 47 St &amp; Park Ave</td>\n",
       "      <td>6584.12</td>\n",
       "      <td>W 52 St &amp; 6 Ave</td>\n",
       "      <td>6740.01</td>\n",
       "      <td>40.755102</td>\n",
       "      <td>-73.974986</td>\n",
       "      <td>40.761330</td>\n",
       "      <td>-73.979820</td>\n",
       "      <td>member</td>\n",
       "      <td>2021</td>\n",
       "      <td>2021-04-27</td>\n",
       "      <td>17:28:02</td>\n",
       "      <td>2021-04-27</td>\n",
       "      <td>17:33:07</td>\n",
       "    </tr>\n",
       "    <tr>\n",
       "      <th>2</th>\n",
       "      <td>2021-04-28 18:05:19</td>\n",
       "      <td>2021-04-28 18:10:48</td>\n",
       "      <td>E 47 St &amp; Park Ave</td>\n",
       "      <td>6584.12</td>\n",
       "      <td>W 52 St &amp; 6 Ave</td>\n",
       "      <td>6740.01</td>\n",
       "      <td>40.755102</td>\n",
       "      <td>-73.974986</td>\n",
       "      <td>40.761330</td>\n",
       "      <td>-73.979820</td>\n",
       "      <td>member</td>\n",
       "      <td>2021</td>\n",
       "      <td>2021-04-28</td>\n",
       "      <td>18:05:19</td>\n",
       "      <td>2021-04-28</td>\n",
       "      <td>18:10:48</td>\n",
       "    </tr>\n",
       "    <tr>\n",
       "      <th>3</th>\n",
       "      <td>2021-04-20 21:35:47</td>\n",
       "      <td>2021-04-20 21:56:31</td>\n",
       "      <td>Irving Ave &amp; DeKalb Ave</td>\n",
       "      <td>4898.02</td>\n",
       "      <td>Division Ave &amp; Hooper St</td>\n",
       "      <td>5045.05</td>\n",
       "      <td>40.702700</td>\n",
       "      <td>-73.920950</td>\n",
       "      <td>40.706842</td>\n",
       "      <td>-73.954435</td>\n",
       "      <td>casual</td>\n",
       "      <td>2021</td>\n",
       "      <td>2021-04-20</td>\n",
       "      <td>21:35:47</td>\n",
       "      <td>2021-04-20</td>\n",
       "      <td>21:56:31</td>\n",
       "    </tr>\n",
       "    <tr>\n",
       "      <th>4</th>\n",
       "      <td>2021-04-30 00:34:54</td>\n",
       "      <td>2021-04-30 01:03:29</td>\n",
       "      <td>3 Ave &amp; E 112 St</td>\n",
       "      <td>7543.15</td>\n",
       "      <td>E 115 St &amp; Lexington Ave</td>\n",
       "      <td>7599.09</td>\n",
       "      <td>40.795508</td>\n",
       "      <td>-73.941606</td>\n",
       "      <td>40.797911</td>\n",
       "      <td>-73.942300</td>\n",
       "      <td>casual</td>\n",
       "      <td>2021</td>\n",
       "      <td>2021-04-30</td>\n",
       "      <td>00:34:54</td>\n",
       "      <td>2021-04-30</td>\n",
       "      <td>01:03:29</td>\n",
       "    </tr>\n",
       "  </tbody>\n",
       "</table>\n",
       "</div>"
      ],
      "text/plain": [
       "            started_at             ended_at       start_station_name  \\\n",
       "0  2021-04-28 17:27:24  2021-04-28 17:34:31  DeKalb Ave & Hudson Ave   \n",
       "1  2021-04-27 17:28:02  2021-04-27 17:33:07       E 47 St & Park Ave   \n",
       "2  2021-04-28 18:05:19  2021-04-28 18:10:48       E 47 St & Park Ave   \n",
       "3  2021-04-20 21:35:47  2021-04-20 21:56:31  Irving Ave & DeKalb Ave   \n",
       "4  2021-04-30 00:34:54  2021-04-30 01:03:29         3 Ave & E 112 St   \n",
       "\n",
       "  start_station_id          end_station_name end_station_id  start_lat  \\\n",
       "0          4513.06       Douglass St & 4 Ave        4175.14  40.689888   \n",
       "1          6584.12           W 52 St & 6 Ave        6740.01  40.755102   \n",
       "2          6584.12           W 52 St & 6 Ave        6740.01  40.755102   \n",
       "3          4898.02  Division Ave & Hooper St        5045.05  40.702700   \n",
       "4          7543.15  E 115 St & Lexington Ave        7599.09  40.795508   \n",
       "\n",
       "   start_lng    end_lat    end_lng member_casual  Year started_at_date  \\\n",
       "0 -73.981013  40.679279 -73.981540        member  2021      2021-04-28   \n",
       "1 -73.974986  40.761330 -73.979820        member  2021      2021-04-27   \n",
       "2 -73.974986  40.761330 -73.979820        member  2021      2021-04-28   \n",
       "3 -73.920950  40.706842 -73.954435        casual  2021      2021-04-20   \n",
       "4 -73.941606  40.797911 -73.942300        casual  2021      2021-04-30   \n",
       "\n",
       "  started_at_time ended_at_date ended_at_time  \n",
       "0        17:27:24    2021-04-28      17:34:31  \n",
       "1        17:28:02    2021-04-27      17:33:07  \n",
       "2        18:05:19    2021-04-28      18:10:48  \n",
       "3        21:35:47    2021-04-20      21:56:31  \n",
       "4        00:34:54    2021-04-30      01:03:29  "
      ]
     },
     "execution_count": 123,
     "metadata": {},
     "output_type": "execute_result"
    }
   ],
   "source": [
    "april21_drop.head()"
   ]
  },
  {
   "cell_type": "markdown",
   "id": "b4b3f394-b35c-4c12-86e1-e1d8e17f65c7",
   "metadata": {},
   "source": [
    "### Drop unwanted columns from 2020"
   ]
  },
  {
   "cell_type": "code",
   "execution_count": 124,
   "id": "b7f9e120-d9e6-4a8e-982d-0f584c822ea6",
   "metadata": {},
   "outputs": [
    {
     "data": {
      "text/plain": [
       "Index(['starttime', 'stoptime', 'start station id', 'start station name',\n",
       "       'start station latitude', 'start station longitude', 'end station id',\n",
       "       'end station name', 'end station latitude', 'end station longitude',\n",
       "       'usertype'],\n",
       "      dtype='object')"
      ]
     },
     "execution_count": 124,
     "metadata": {},
     "output_type": "execute_result"
    }
   ],
   "source": [
    "april20_drop = april20.drop(['tripduration','bikeid','birth year','gender'],axis = 1)\n",
    "april20_drop.columns"
   ]
  },
  {
   "cell_type": "markdown",
   "id": "dd8f762d-72b9-4c5f-872f-fd74730ded2c",
   "metadata": {},
   "source": [
    "### Add Year column to 2020"
   ]
  },
  {
   "cell_type": "code",
   "execution_count": 125,
   "id": "0c354d7f-242f-492c-9cc8-50303c6118c3",
   "metadata": {},
   "outputs": [
    {
     "data": {
      "text/plain": [
       "Index(['starttime', 'stoptime', 'start station id', 'start station name',\n",
       "       'start station latitude', 'start station longitude', 'end station id',\n",
       "       'end station name', 'end station latitude', 'end station longitude',\n",
       "       'usertype', 'Year'],\n",
       "      dtype='object')"
      ]
     },
     "execution_count": 125,
     "metadata": {},
     "output_type": "execute_result"
    }
   ],
   "source": [
    "april20_drop['Year'] = '2020'\n",
    "april20_drop.columns"
   ]
  },
  {
   "cell_type": "markdown",
   "id": "464b06e7-4887-494e-a807-865952fc0b70",
   "metadata": {},
   "source": [
    "### Find and Remove Nan"
   ]
  },
  {
   "cell_type": "code",
   "execution_count": 126,
   "id": "99d257c8-8898-4f52-a4b4-22bfc2add510",
   "metadata": {},
   "outputs": [
    {
     "data": {
      "text/plain": [
       "(682762, 12)"
      ]
     },
     "execution_count": 126,
     "metadata": {},
     "output_type": "execute_result"
    }
   ],
   "source": [
    "april20_drop.shape"
   ]
  },
  {
   "cell_type": "code",
   "execution_count": 127,
   "id": "3446b7b1-c74d-4928-aef7-0c388f45b286",
   "metadata": {},
   "outputs": [
    {
     "data": {
      "text/plain": [
       "(682762, 12)"
      ]
     },
     "execution_count": 127,
     "metadata": {},
     "output_type": "execute_result"
    }
   ],
   "source": [
    "april20_missing = april20_drop.isna()\n",
    "april20_missing.shape"
   ]
  },
  {
   "cell_type": "code",
   "execution_count": 128,
   "id": "5965fac9-f677-44e3-84e3-0f365093cfa2",
   "metadata": {},
   "outputs": [
    {
     "data": {
      "text/plain": [
       "starttime                  0\n",
       "stoptime                   0\n",
       "start station id           0\n",
       "start station name         0\n",
       "start station latitude     0\n",
       "start station longitude    0\n",
       "end station id             0\n",
       "end station name           0\n",
       "end station latitude       0\n",
       "end station longitude      0\n",
       "usertype                   0\n",
       "Year                       0\n",
       "dtype: int64"
      ]
     },
     "execution_count": 128,
     "metadata": {},
     "output_type": "execute_result"
    }
   ],
   "source": [
    "#No NaN in dataframe\n",
    "\n",
    "april20_num_missing = april20_missing.sum()\n",
    "april20_num_missing"
   ]
  },
  {
   "cell_type": "markdown",
   "id": "72682faf-f189-4b0d-a6d6-b827276d5ff4",
   "metadata": {},
   "source": [
    "### Separate Date Time columnd for 2020"
   ]
  },
  {
   "cell_type": "code",
   "execution_count": 156,
   "id": "41638a4a-dcd8-489a-8337-19f23a68a73f",
   "metadata": {},
   "outputs": [
    {
     "data": {
      "text/html": [
       "<div>\n",
       "<style scoped>\n",
       "    .dataframe tbody tr th:only-of-type {\n",
       "        vertical-align: middle;\n",
       "    }\n",
       "\n",
       "    .dataframe tbody tr th {\n",
       "        vertical-align: top;\n",
       "    }\n",
       "\n",
       "    .dataframe thead th {\n",
       "        text-align: right;\n",
       "    }\n",
       "</style>\n",
       "<table border=\"1\" class=\"dataframe\">\n",
       "  <thead>\n",
       "    <tr style=\"text-align: right;\">\n",
       "      <th></th>\n",
       "      <th>starttime</th>\n",
       "      <th>stoptime</th>\n",
       "      <th>start station id</th>\n",
       "      <th>start station name</th>\n",
       "      <th>start station latitude</th>\n",
       "      <th>start station longitude</th>\n",
       "      <th>end station id</th>\n",
       "      <th>end station name</th>\n",
       "      <th>end station latitude</th>\n",
       "      <th>end station longitude</th>\n",
       "      <th>usertype</th>\n",
       "      <th>Year</th>\n",
       "      <th>started_at_date</th>\n",
       "      <th>started_at_time</th>\n",
       "    </tr>\n",
       "  </thead>\n",
       "  <tbody>\n",
       "    <tr>\n",
       "      <th>0</th>\n",
       "      <td>2020-04-01 00:00:15.2800</td>\n",
       "      <td>2020-04-01 00:09:09.8730</td>\n",
       "      <td>3656</td>\n",
       "      <td>E 2 St &amp; Avenue A</td>\n",
       "      <td>40.723077</td>\n",
       "      <td>-73.985836</td>\n",
       "      <td>545</td>\n",
       "      <td>E 23 St &amp; 1 Ave</td>\n",
       "      <td>40.736502</td>\n",
       "      <td>-73.978095</td>\n",
       "      <td>Subscriber</td>\n",
       "      <td>2020</td>\n",
       "      <td>2020-04-01</td>\n",
       "      <td>00:00:15.280000</td>\n",
       "    </tr>\n",
       "    <tr>\n",
       "      <th>1</th>\n",
       "      <td>2020-04-01 00:02:28.9430</td>\n",
       "      <td>2020-04-01 00:11:18.3410</td>\n",
       "      <td>3163</td>\n",
       "      <td>Central Park West &amp; W 68 St</td>\n",
       "      <td>40.773407</td>\n",
       "      <td>-73.977825</td>\n",
       "      <td>3301</td>\n",
       "      <td>Columbus Ave &amp; W 95 St</td>\n",
       "      <td>40.791956</td>\n",
       "      <td>-73.968087</td>\n",
       "      <td>Subscriber</td>\n",
       "      <td>2020</td>\n",
       "      <td>2020-04-01</td>\n",
       "      <td>00:02:28.943000</td>\n",
       "    </tr>\n",
       "    <tr>\n",
       "      <th>2</th>\n",
       "      <td>2020-04-01 00:02:56.0900</td>\n",
       "      <td>2020-04-01 00:27:44.2530</td>\n",
       "      <td>3164</td>\n",
       "      <td>Columbus Ave &amp; W 72 St</td>\n",
       "      <td>40.777057</td>\n",
       "      <td>-73.978985</td>\n",
       "      <td>3605</td>\n",
       "      <td>31 Ave &amp; Crescent St</td>\n",
       "      <td>40.765835</td>\n",
       "      <td>-73.926547</td>\n",
       "      <td>Subscriber</td>\n",
       "      <td>2020</td>\n",
       "      <td>2020-04-01</td>\n",
       "      <td>00:02:56.090000</td>\n",
       "    </tr>\n",
       "    <tr>\n",
       "      <th>3</th>\n",
       "      <td>2020-04-01 00:03:25.1410</td>\n",
       "      <td>2020-04-01 00:09:06.3190</td>\n",
       "      <td>3827</td>\n",
       "      <td>Halsey St &amp; Broadway</td>\n",
       "      <td>40.685650</td>\n",
       "      <td>-73.915640</td>\n",
       "      <td>3869</td>\n",
       "      <td>Van Buren St &amp; Broadway</td>\n",
       "      <td>40.692000</td>\n",
       "      <td>-73.926170</td>\n",
       "      <td>Subscriber</td>\n",
       "      <td>2020</td>\n",
       "      <td>2020-04-01</td>\n",
       "      <td>00:03:25.141000</td>\n",
       "    </tr>\n",
       "    <tr>\n",
       "      <th>4</th>\n",
       "      <td>2020-04-01 00:05:35.2790</td>\n",
       "      <td>2020-04-01 00:42:21.9080</td>\n",
       "      <td>3890</td>\n",
       "      <td>Grove St &amp; Broadway</td>\n",
       "      <td>40.690470</td>\n",
       "      <td>-73.923511</td>\n",
       "      <td>3058</td>\n",
       "      <td>Lewis Ave &amp; Kosciuszko St</td>\n",
       "      <td>40.692371</td>\n",
       "      <td>-73.937054</td>\n",
       "      <td>Subscriber</td>\n",
       "      <td>2020</td>\n",
       "      <td>2020-04-01</td>\n",
       "      <td>00:05:35.279000</td>\n",
       "    </tr>\n",
       "  </tbody>\n",
       "</table>\n",
       "</div>"
      ],
      "text/plain": [
       "                  starttime                  stoptime  start station id  \\\n",
       "0  2020-04-01 00:00:15.2800  2020-04-01 00:09:09.8730              3656   \n",
       "1  2020-04-01 00:02:28.9430  2020-04-01 00:11:18.3410              3163   \n",
       "2  2020-04-01 00:02:56.0900  2020-04-01 00:27:44.2530              3164   \n",
       "3  2020-04-01 00:03:25.1410  2020-04-01 00:09:06.3190              3827   \n",
       "4  2020-04-01 00:05:35.2790  2020-04-01 00:42:21.9080              3890   \n",
       "\n",
       "            start station name  start station latitude  \\\n",
       "0            E 2 St & Avenue A               40.723077   \n",
       "1  Central Park West & W 68 St               40.773407   \n",
       "2       Columbus Ave & W 72 St               40.777057   \n",
       "3         Halsey St & Broadway               40.685650   \n",
       "4          Grove St & Broadway               40.690470   \n",
       "\n",
       "   start station longitude  end station id           end station name  \\\n",
       "0               -73.985836             545            E 23 St & 1 Ave   \n",
       "1               -73.977825            3301     Columbus Ave & W 95 St   \n",
       "2               -73.978985            3605       31 Ave & Crescent St   \n",
       "3               -73.915640            3869    Van Buren St & Broadway   \n",
       "4               -73.923511            3058  Lewis Ave & Kosciuszko St   \n",
       "\n",
       "   end station latitude  end station longitude    usertype  Year  \\\n",
       "0             40.736502             -73.978095  Subscriber  2020   \n",
       "1             40.791956             -73.968087  Subscriber  2020   \n",
       "2             40.765835             -73.926547  Subscriber  2020   \n",
       "3             40.692000             -73.926170  Subscriber  2020   \n",
       "4             40.692371             -73.937054  Subscriber  2020   \n",
       "\n",
       "  started_at_date  started_at_time  \n",
       "0      2020-04-01  00:00:15.280000  \n",
       "1      2020-04-01  00:02:28.943000  \n",
       "2      2020-04-01  00:02:56.090000  \n",
       "3      2020-04-01  00:03:25.141000  \n",
       "4      2020-04-01  00:05:35.279000  "
      ]
     },
     "execution_count": 156,
     "metadata": {},
     "output_type": "execute_result"
    }
   ],
   "source": [
    "april20_drop['started_at_date'] = pd.to_datetime(april20_drop['starttime']).dt.date\n",
    "april20_drop['started_at_time'] = pd.to_datetime(april20_drop['starttime']).dt.time\n",
    "april20_drop.head()"
   ]
  },
  {
   "cell_type": "code",
   "execution_count": 157,
   "id": "508350c4-1ade-4f29-ba56-a50b002575e2",
   "metadata": {},
   "outputs": [
    {
     "data": {
      "text/html": [
       "<div>\n",
       "<style scoped>\n",
       "    .dataframe tbody tr th:only-of-type {\n",
       "        vertical-align: middle;\n",
       "    }\n",
       "\n",
       "    .dataframe tbody tr th {\n",
       "        vertical-align: top;\n",
       "    }\n",
       "\n",
       "    .dataframe thead th {\n",
       "        text-align: right;\n",
       "    }\n",
       "</style>\n",
       "<table border=\"1\" class=\"dataframe\">\n",
       "  <thead>\n",
       "    <tr style=\"text-align: right;\">\n",
       "      <th></th>\n",
       "      <th>starttime</th>\n",
       "      <th>stoptime</th>\n",
       "      <th>start station id</th>\n",
       "      <th>start station name</th>\n",
       "      <th>start station latitude</th>\n",
       "      <th>start station longitude</th>\n",
       "      <th>end station id</th>\n",
       "      <th>end station name</th>\n",
       "      <th>end station latitude</th>\n",
       "      <th>end station longitude</th>\n",
       "      <th>usertype</th>\n",
       "      <th>Year</th>\n",
       "      <th>started_at_date</th>\n",
       "      <th>started_at_time</th>\n",
       "      <th>ended_at_date</th>\n",
       "      <th>ended_at_time</th>\n",
       "    </tr>\n",
       "  </thead>\n",
       "  <tbody>\n",
       "    <tr>\n",
       "      <th>0</th>\n",
       "      <td>2020-04-01 00:00:15.2800</td>\n",
       "      <td>2020-04-01 00:09:09.8730</td>\n",
       "      <td>3656</td>\n",
       "      <td>E 2 St &amp; Avenue A</td>\n",
       "      <td>40.723077</td>\n",
       "      <td>-73.985836</td>\n",
       "      <td>545</td>\n",
       "      <td>E 23 St &amp; 1 Ave</td>\n",
       "      <td>40.736502</td>\n",
       "      <td>-73.978095</td>\n",
       "      <td>Subscriber</td>\n",
       "      <td>2020</td>\n",
       "      <td>2020-04-01</td>\n",
       "      <td>00:00:15.280000</td>\n",
       "      <td>2020-04-01</td>\n",
       "      <td>00:09:09.873000</td>\n",
       "    </tr>\n",
       "    <tr>\n",
       "      <th>1</th>\n",
       "      <td>2020-04-01 00:02:28.9430</td>\n",
       "      <td>2020-04-01 00:11:18.3410</td>\n",
       "      <td>3163</td>\n",
       "      <td>Central Park West &amp; W 68 St</td>\n",
       "      <td>40.773407</td>\n",
       "      <td>-73.977825</td>\n",
       "      <td>3301</td>\n",
       "      <td>Columbus Ave &amp; W 95 St</td>\n",
       "      <td>40.791956</td>\n",
       "      <td>-73.968087</td>\n",
       "      <td>Subscriber</td>\n",
       "      <td>2020</td>\n",
       "      <td>2020-04-01</td>\n",
       "      <td>00:02:28.943000</td>\n",
       "      <td>2020-04-01</td>\n",
       "      <td>00:11:18.341000</td>\n",
       "    </tr>\n",
       "    <tr>\n",
       "      <th>2</th>\n",
       "      <td>2020-04-01 00:02:56.0900</td>\n",
       "      <td>2020-04-01 00:27:44.2530</td>\n",
       "      <td>3164</td>\n",
       "      <td>Columbus Ave &amp; W 72 St</td>\n",
       "      <td>40.777057</td>\n",
       "      <td>-73.978985</td>\n",
       "      <td>3605</td>\n",
       "      <td>31 Ave &amp; Crescent St</td>\n",
       "      <td>40.765835</td>\n",
       "      <td>-73.926547</td>\n",
       "      <td>Subscriber</td>\n",
       "      <td>2020</td>\n",
       "      <td>2020-04-01</td>\n",
       "      <td>00:02:56.090000</td>\n",
       "      <td>2020-04-01</td>\n",
       "      <td>00:27:44.253000</td>\n",
       "    </tr>\n",
       "    <tr>\n",
       "      <th>3</th>\n",
       "      <td>2020-04-01 00:03:25.1410</td>\n",
       "      <td>2020-04-01 00:09:06.3190</td>\n",
       "      <td>3827</td>\n",
       "      <td>Halsey St &amp; Broadway</td>\n",
       "      <td>40.685650</td>\n",
       "      <td>-73.915640</td>\n",
       "      <td>3869</td>\n",
       "      <td>Van Buren St &amp; Broadway</td>\n",
       "      <td>40.692000</td>\n",
       "      <td>-73.926170</td>\n",
       "      <td>Subscriber</td>\n",
       "      <td>2020</td>\n",
       "      <td>2020-04-01</td>\n",
       "      <td>00:03:25.141000</td>\n",
       "      <td>2020-04-01</td>\n",
       "      <td>00:09:06.319000</td>\n",
       "    </tr>\n",
       "    <tr>\n",
       "      <th>4</th>\n",
       "      <td>2020-04-01 00:05:35.2790</td>\n",
       "      <td>2020-04-01 00:42:21.9080</td>\n",
       "      <td>3890</td>\n",
       "      <td>Grove St &amp; Broadway</td>\n",
       "      <td>40.690470</td>\n",
       "      <td>-73.923511</td>\n",
       "      <td>3058</td>\n",
       "      <td>Lewis Ave &amp; Kosciuszko St</td>\n",
       "      <td>40.692371</td>\n",
       "      <td>-73.937054</td>\n",
       "      <td>Subscriber</td>\n",
       "      <td>2020</td>\n",
       "      <td>2020-04-01</td>\n",
       "      <td>00:05:35.279000</td>\n",
       "      <td>2020-04-01</td>\n",
       "      <td>00:42:21.908000</td>\n",
       "    </tr>\n",
       "  </tbody>\n",
       "</table>\n",
       "</div>"
      ],
      "text/plain": [
       "                  starttime                  stoptime  start station id  \\\n",
       "0  2020-04-01 00:00:15.2800  2020-04-01 00:09:09.8730              3656   \n",
       "1  2020-04-01 00:02:28.9430  2020-04-01 00:11:18.3410              3163   \n",
       "2  2020-04-01 00:02:56.0900  2020-04-01 00:27:44.2530              3164   \n",
       "3  2020-04-01 00:03:25.1410  2020-04-01 00:09:06.3190              3827   \n",
       "4  2020-04-01 00:05:35.2790  2020-04-01 00:42:21.9080              3890   \n",
       "\n",
       "            start station name  start station latitude  \\\n",
       "0            E 2 St & Avenue A               40.723077   \n",
       "1  Central Park West & W 68 St               40.773407   \n",
       "2       Columbus Ave & W 72 St               40.777057   \n",
       "3         Halsey St & Broadway               40.685650   \n",
       "4          Grove St & Broadway               40.690470   \n",
       "\n",
       "   start station longitude  end station id           end station name  \\\n",
       "0               -73.985836             545            E 23 St & 1 Ave   \n",
       "1               -73.977825            3301     Columbus Ave & W 95 St   \n",
       "2               -73.978985            3605       31 Ave & Crescent St   \n",
       "3               -73.915640            3869    Van Buren St & Broadway   \n",
       "4               -73.923511            3058  Lewis Ave & Kosciuszko St   \n",
       "\n",
       "   end station latitude  end station longitude    usertype  Year  \\\n",
       "0             40.736502             -73.978095  Subscriber  2020   \n",
       "1             40.791956             -73.968087  Subscriber  2020   \n",
       "2             40.765835             -73.926547  Subscriber  2020   \n",
       "3             40.692000             -73.926170  Subscriber  2020   \n",
       "4             40.692371             -73.937054  Subscriber  2020   \n",
       "\n",
       "  started_at_date  started_at_time ended_at_date    ended_at_time  \n",
       "0      2020-04-01  00:00:15.280000    2020-04-01  00:09:09.873000  \n",
       "1      2020-04-01  00:02:28.943000    2020-04-01  00:11:18.341000  \n",
       "2      2020-04-01  00:02:56.090000    2020-04-01  00:27:44.253000  \n",
       "3      2020-04-01  00:03:25.141000    2020-04-01  00:09:06.319000  \n",
       "4      2020-04-01  00:05:35.279000    2020-04-01  00:42:21.908000  "
      ]
     },
     "execution_count": 157,
     "metadata": {},
     "output_type": "execute_result"
    }
   ],
   "source": [
    "april20_drop['ended_at_date'] = pd.to_datetime(april20_drop['stoptime']).dt.date\n",
    "april20_drop['ended_at_time'] = pd.to_datetime(april20_drop['stoptime']).dt.time\n",
    "april20_drop.head()"
   ]
  },
  {
   "cell_type": "code",
   "execution_count": 158,
   "id": "0bfbd402-fbd0-44be-83e8-6e4ca4b734dd",
   "metadata": {},
   "outputs": [
    {
     "data": {
      "text/plain": [
       "Index(['starttime', 'stoptime', 'start station id', 'start station name',\n",
       "       'start station latitude', 'start station longitude', 'end station id',\n",
       "       'end station name', 'end station latitude', 'end station longitude',\n",
       "       'usertype', 'Year', 'started_at_date', 'started_at_time',\n",
       "       'ended_at_date', 'ended_at_time'],\n",
       "      dtype='object')"
      ]
     },
     "execution_count": 158,
     "metadata": {},
     "output_type": "execute_result"
    }
   ],
   "source": [
    "april20_drop.columns"
   ]
  },
  {
   "cell_type": "code",
   "execution_count": 159,
   "id": "d0e45976-953e-4f8b-9eed-a791a0921040",
   "metadata": {},
   "outputs": [
    {
     "data": {
      "text/plain": [
       "Index(['started_at', 'ended_at', 'start_station_name', 'start_station_id',\n",
       "       'end_station_name', 'end_station_id', 'start_lat', 'start_lng',\n",
       "       'end_lat', 'end_lng', 'member_casual', 'Year', 'started_at_date',\n",
       "       'started_at_time', 'ended_at_date', 'ended_at_time'],\n",
       "      dtype='object')"
      ]
     },
     "execution_count": 159,
     "metadata": {},
     "output_type": "execute_result"
    }
   ],
   "source": [
    "april21_drop.columns"
   ]
  },
  {
   "cell_type": "code",
   "execution_count": 160,
   "id": "ff9fac3f-8b6d-426c-a5f9-af76aa14ce1c",
   "metadata": {},
   "outputs": [
    {
     "data": {
      "text/plain": [
       "Index(['started_at', 'ended_at', 'start_station_id', 'start_station_name',\n",
       "       'start_lat', 'start_lng', 'end_station_id', 'end_station_name',\n",
       "       'end_lat', 'end_lng', 'member_casual', 'Year', 'started_at_date',\n",
       "       'started_at_time', 'ended_at_date', 'ended_at_time'],\n",
       "      dtype='object')"
      ]
     },
     "execution_count": 160,
     "metadata": {},
     "output_type": "execute_result"
    }
   ],
   "source": [
    "april20_rename = april20_drop.rename(columns={\"starttime\": \"started_at\", \"stoptime\": \"ended_at\", \"start station id\":\"start_station_id\",\n",
    "                            \"end station id\":\"end_station_id\", \"start station name\":\"start_station_name\",\n",
    "                            \"end station name\":\"end_station_name\", \"start station latitude\":\"start_lat\", \n",
    "                            \"start station longitude\":\"start_lng\", \"end station latitude\":\"end_lat\", \"end station longitude\":\n",
    "                            \"end_lng\", \"usertype\":\"member_casual\"})\n",
    "april20_rename.columns\n"
   ]
  },
  {
   "cell_type": "markdown",
   "id": "03e83e37-c150-4dd0-a8ab-9ea2ef38f6ca",
   "metadata": {},
   "source": [
    "### Rearrange 2020 columns to reflect 2021\n"
   ]
  },
  {
   "cell_type": "code",
   "execution_count": 161,
   "id": "27a3d941-be6b-4059-8ea3-793767827430",
   "metadata": {},
   "outputs": [
    {
     "data": {
      "text/plain": [
       "(682762, 16)"
      ]
     },
     "execution_count": 161,
     "metadata": {},
     "output_type": "execute_result"
    }
   ],
   "source": [
    "april20_rename.shape"
   ]
  },
  {
   "cell_type": "code",
   "execution_count": 162,
   "id": "c7cd0c97-895a-417a-acc0-8b6d311dc0ea",
   "metadata": {},
   "outputs": [
    {
     "data": {
      "text/plain": [
       "(2064277, 16)"
      ]
     },
     "execution_count": 162,
     "metadata": {},
     "output_type": "execute_result"
    }
   ],
   "source": [
    "april21_drop.shape"
   ]
  },
  {
   "cell_type": "code",
   "execution_count": 163,
   "id": "57f2ffbb-7d7f-482b-9001-16ee94689ffb",
   "metadata": {},
   "outputs": [
    {
     "data": {
      "text/plain": [
       "Index(['started_at', 'ended_at', 'start_station_name', 'start_station_id',\n",
       "       'end_station_name', 'end_station_id', 'start_lat', 'start_lng',\n",
       "       'end_lat', 'end_lng', 'member_casual', 'Year', 'started_at_date',\n",
       "       'started_at_time', 'ended_at_date', 'ended_at_time'],\n",
       "      dtype='object')"
      ]
     },
     "execution_count": 163,
     "metadata": {},
     "output_type": "execute_result"
    }
   ],
   "source": [
    "april20_cols = april20_rename[['started_at', 'ended_at', 'start_station_name', 'start_station_id',\n",
    "       'end_station_name', 'end_station_id', 'start_lat', 'start_lng',\n",
    "       'end_lat', 'end_lng', 'member_casual', 'Year', 'started_at_date',\n",
    "       'started_at_time', 'ended_at_date', 'ended_at_time']]\n",
    "april20_cols.columns"
   ]
  },
  {
   "cell_type": "code",
   "execution_count": 164,
   "id": "7ed1179e-5c28-4e62-b314-efe2e6f80b76",
   "metadata": {},
   "outputs": [
    {
     "data": {
      "text/plain": [
       "Index(['started_at', 'ended_at', 'start_station_name', 'start_station_id',\n",
       "       'end_station_name', 'end_station_id', 'start_lat', 'start_lng',\n",
       "       'end_lat', 'end_lng', 'member_casual', 'Year', 'started_at_date',\n",
       "       'started_at_time', 'ended_at_date', 'ended_at_time'],\n",
       "      dtype='object')"
      ]
     },
     "execution_count": 164,
     "metadata": {},
     "output_type": "execute_result"
    }
   ],
   "source": [
    "april21_drop.columns"
   ]
  },
  {
   "cell_type": "code",
   "execution_count": 165,
   "id": "71219ec4-633d-44b9-808b-e0e19e6a453b",
   "metadata": {},
   "outputs": [
    {
     "data": {
      "text/plain": [
       "array(['member', 'casual'], dtype=object)"
      ]
     },
     "execution_count": 165,
     "metadata": {},
     "output_type": "execute_result"
    }
   ],
   "source": [
    "april21_drop.member_casual.unique()"
   ]
  },
  {
   "cell_type": "code",
   "execution_count": 166,
   "id": "a0f65198-ff92-46f7-b360-7a3bcd4df9b9",
   "metadata": {},
   "outputs": [
    {
     "data": {
      "text/plain": [
       "array(['Subscriber', 'Customer'], dtype=object)"
      ]
     },
     "execution_count": 166,
     "metadata": {},
     "output_type": "execute_result"
    }
   ],
   "source": [
    "april20_cols.member_casual.unique()"
   ]
  },
  {
   "cell_type": "code",
   "execution_count": 170,
   "id": "ba8f9e3b-fc34-4fcd-af85-bb1958cc5a75",
   "metadata": {},
   "outputs": [
    {
     "data": {
      "text/plain": [
       "array(['member', 'Customer'], dtype=object)"
      ]
     },
     "execution_count": 170,
     "metadata": {},
     "output_type": "execute_result"
    }
   ],
   "source": [
    "april20_cols['member_casual'] = april20_cols['member_casual'].replace(['Subscriber'], 'member')\n",
    "april20_cols.member_casual.unique()"
   ]
  },
  {
   "cell_type": "code",
   "execution_count": 171,
   "id": "8ba36c1f-6dae-4b06-94a8-0947d877ccb8",
   "metadata": {},
   "outputs": [
    {
     "data": {
      "text/plain": [
       "array(['member', 'casual'], dtype=object)"
      ]
     },
     "execution_count": 171,
     "metadata": {},
     "output_type": "execute_result"
    }
   ],
   "source": [
    "april20_cols['member_casual'] = april20_cols['member_casual'].replace(['Customer'], 'casual')\n",
    "april20_cols.member_casual.unique()"
   ]
  },
  {
   "cell_type": "code",
   "execution_count": 172,
   "id": "5306ac2f-9960-49d3-90ac-f6e6d49e4552",
   "metadata": {},
   "outputs": [
    {
     "data": {
      "text/html": [
       "<div>\n",
       "<style scoped>\n",
       "    .dataframe tbody tr th:only-of-type {\n",
       "        vertical-align: middle;\n",
       "    }\n",
       "\n",
       "    .dataframe tbody tr th {\n",
       "        vertical-align: top;\n",
       "    }\n",
       "\n",
       "    .dataframe thead th {\n",
       "        text-align: right;\n",
       "    }\n",
       "</style>\n",
       "<table border=\"1\" class=\"dataframe\">\n",
       "  <thead>\n",
       "    <tr style=\"text-align: right;\">\n",
       "      <th></th>\n",
       "      <th>started_at</th>\n",
       "      <th>ended_at</th>\n",
       "      <th>start_station_name</th>\n",
       "      <th>start_station_id</th>\n",
       "      <th>end_station_name</th>\n",
       "      <th>end_station_id</th>\n",
       "      <th>start_lat</th>\n",
       "      <th>start_lng</th>\n",
       "      <th>end_lat</th>\n",
       "      <th>end_lng</th>\n",
       "      <th>member_casual</th>\n",
       "      <th>Year</th>\n",
       "      <th>started_at_date</th>\n",
       "      <th>started_at_time</th>\n",
       "      <th>ended_at_date</th>\n",
       "      <th>ended_at_time</th>\n",
       "    </tr>\n",
       "  </thead>\n",
       "  <tbody>\n",
       "    <tr>\n",
       "      <th>0</th>\n",
       "      <td>2020-04-01 00:00:15.2800</td>\n",
       "      <td>2020-04-01 00:09:09.8730</td>\n",
       "      <td>E 2 St &amp; Avenue A</td>\n",
       "      <td>3656</td>\n",
       "      <td>E 23 St &amp; 1 Ave</td>\n",
       "      <td>545</td>\n",
       "      <td>40.723077</td>\n",
       "      <td>-73.985836</td>\n",
       "      <td>40.736502</td>\n",
       "      <td>-73.978095</td>\n",
       "      <td>member</td>\n",
       "      <td>2020</td>\n",
       "      <td>2020-04-01</td>\n",
       "      <td>00:00:15.280000</td>\n",
       "      <td>2020-04-01</td>\n",
       "      <td>00:09:09.873000</td>\n",
       "    </tr>\n",
       "    <tr>\n",
       "      <th>1</th>\n",
       "      <td>2020-04-01 00:02:28.9430</td>\n",
       "      <td>2020-04-01 00:11:18.3410</td>\n",
       "      <td>Central Park West &amp; W 68 St</td>\n",
       "      <td>3163</td>\n",
       "      <td>Columbus Ave &amp; W 95 St</td>\n",
       "      <td>3301</td>\n",
       "      <td>40.773407</td>\n",
       "      <td>-73.977825</td>\n",
       "      <td>40.791956</td>\n",
       "      <td>-73.968087</td>\n",
       "      <td>member</td>\n",
       "      <td>2020</td>\n",
       "      <td>2020-04-01</td>\n",
       "      <td>00:02:28.943000</td>\n",
       "      <td>2020-04-01</td>\n",
       "      <td>00:11:18.341000</td>\n",
       "    </tr>\n",
       "    <tr>\n",
       "      <th>2</th>\n",
       "      <td>2020-04-01 00:02:56.0900</td>\n",
       "      <td>2020-04-01 00:27:44.2530</td>\n",
       "      <td>Columbus Ave &amp; W 72 St</td>\n",
       "      <td>3164</td>\n",
       "      <td>31 Ave &amp; Crescent St</td>\n",
       "      <td>3605</td>\n",
       "      <td>40.777057</td>\n",
       "      <td>-73.978985</td>\n",
       "      <td>40.765835</td>\n",
       "      <td>-73.926547</td>\n",
       "      <td>member</td>\n",
       "      <td>2020</td>\n",
       "      <td>2020-04-01</td>\n",
       "      <td>00:02:56.090000</td>\n",
       "      <td>2020-04-01</td>\n",
       "      <td>00:27:44.253000</td>\n",
       "    </tr>\n",
       "    <tr>\n",
       "      <th>3</th>\n",
       "      <td>2020-04-01 00:03:25.1410</td>\n",
       "      <td>2020-04-01 00:09:06.3190</td>\n",
       "      <td>Halsey St &amp; Broadway</td>\n",
       "      <td>3827</td>\n",
       "      <td>Van Buren St &amp; Broadway</td>\n",
       "      <td>3869</td>\n",
       "      <td>40.685650</td>\n",
       "      <td>-73.915640</td>\n",
       "      <td>40.692000</td>\n",
       "      <td>-73.926170</td>\n",
       "      <td>member</td>\n",
       "      <td>2020</td>\n",
       "      <td>2020-04-01</td>\n",
       "      <td>00:03:25.141000</td>\n",
       "      <td>2020-04-01</td>\n",
       "      <td>00:09:06.319000</td>\n",
       "    </tr>\n",
       "    <tr>\n",
       "      <th>4</th>\n",
       "      <td>2020-04-01 00:05:35.2790</td>\n",
       "      <td>2020-04-01 00:42:21.9080</td>\n",
       "      <td>Grove St &amp; Broadway</td>\n",
       "      <td>3890</td>\n",
       "      <td>Lewis Ave &amp; Kosciuszko St</td>\n",
       "      <td>3058</td>\n",
       "      <td>40.690470</td>\n",
       "      <td>-73.923511</td>\n",
       "      <td>40.692371</td>\n",
       "      <td>-73.937054</td>\n",
       "      <td>member</td>\n",
       "      <td>2020</td>\n",
       "      <td>2020-04-01</td>\n",
       "      <td>00:05:35.279000</td>\n",
       "      <td>2020-04-01</td>\n",
       "      <td>00:42:21.908000</td>\n",
       "    </tr>\n",
       "  </tbody>\n",
       "</table>\n",
       "</div>"
      ],
      "text/plain": [
       "                 started_at                  ended_at  \\\n",
       "0  2020-04-01 00:00:15.2800  2020-04-01 00:09:09.8730   \n",
       "1  2020-04-01 00:02:28.9430  2020-04-01 00:11:18.3410   \n",
       "2  2020-04-01 00:02:56.0900  2020-04-01 00:27:44.2530   \n",
       "3  2020-04-01 00:03:25.1410  2020-04-01 00:09:06.3190   \n",
       "4  2020-04-01 00:05:35.2790  2020-04-01 00:42:21.9080   \n",
       "\n",
       "            start_station_name  start_station_id           end_station_name  \\\n",
       "0            E 2 St & Avenue A              3656            E 23 St & 1 Ave   \n",
       "1  Central Park West & W 68 St              3163     Columbus Ave & W 95 St   \n",
       "2       Columbus Ave & W 72 St              3164       31 Ave & Crescent St   \n",
       "3         Halsey St & Broadway              3827    Van Buren St & Broadway   \n",
       "4          Grove St & Broadway              3890  Lewis Ave & Kosciuszko St   \n",
       "\n",
       "   end_station_id  start_lat  start_lng    end_lat    end_lng member_casual  \\\n",
       "0             545  40.723077 -73.985836  40.736502 -73.978095        member   \n",
       "1            3301  40.773407 -73.977825  40.791956 -73.968087        member   \n",
       "2            3605  40.777057 -73.978985  40.765835 -73.926547        member   \n",
       "3            3869  40.685650 -73.915640  40.692000 -73.926170        member   \n",
       "4            3058  40.690470 -73.923511  40.692371 -73.937054        member   \n",
       "\n",
       "   Year started_at_date  started_at_time ended_at_date    ended_at_time  \n",
       "0  2020      2020-04-01  00:00:15.280000    2020-04-01  00:09:09.873000  \n",
       "1  2020      2020-04-01  00:02:28.943000    2020-04-01  00:11:18.341000  \n",
       "2  2020      2020-04-01  00:02:56.090000    2020-04-01  00:27:44.253000  \n",
       "3  2020      2020-04-01  00:03:25.141000    2020-04-01  00:09:06.319000  \n",
       "4  2020      2020-04-01  00:05:35.279000    2020-04-01  00:42:21.908000  "
      ]
     },
     "execution_count": 172,
     "metadata": {},
     "output_type": "execute_result"
    }
   ],
   "source": [
    "april20_cols.head()"
   ]
  },
  {
   "cell_type": "code",
   "execution_count": 173,
   "id": "6c587a5e-bc69-4b14-9e88-fe9579109206",
   "metadata": {},
   "outputs": [],
   "source": [
    "frames = [april20_cols, april21_drop]\n",
    "merged = pd.concat(frames)"
   ]
  },
  {
   "cell_type": "code",
   "execution_count": 175,
   "id": "0d4e5f96-ac17-408c-8b41-6bff95a652cc",
   "metadata": {},
   "outputs": [
    {
     "data": {
      "text/plain": [
       "(2747039, 16)"
      ]
     },
     "execution_count": 175,
     "metadata": {},
     "output_type": "execute_result"
    }
   ],
   "source": [
    "merged.shape"
   ]
  },
  {
   "cell_type": "code",
   "execution_count": 176,
   "id": "3e8a3b8d-56a3-4aa6-9eec-8805645100e7",
   "metadata": {},
   "outputs": [
    {
     "data": {
      "text/plain": [
       "(682762, 16)"
      ]
     },
     "execution_count": 176,
     "metadata": {},
     "output_type": "execute_result"
    }
   ],
   "source": [
    "april20_cols.shape"
   ]
  },
  {
   "cell_type": "code",
   "execution_count": 177,
   "id": "5829850b-cf1a-4072-8476-a8db8a3a305e",
   "metadata": {},
   "outputs": [
    {
     "data": {
      "text/plain": [
       "(2064277, 16)"
      ]
     },
     "execution_count": 177,
     "metadata": {},
     "output_type": "execute_result"
    }
   ],
   "source": [
    "april21_drop.shape"
   ]
  },
  {
   "cell_type": "code",
   "execution_count": 178,
   "id": "a6ccc6ad-9ca8-4b4f-b445-9d509e3bfe4c",
   "metadata": {},
   "outputs": [
    {
     "data": {
      "text/html": [
       "<div>\n",
       "<style scoped>\n",
       "    .dataframe tbody tr th:only-of-type {\n",
       "        vertical-align: middle;\n",
       "    }\n",
       "\n",
       "    .dataframe tbody tr th {\n",
       "        vertical-align: top;\n",
       "    }\n",
       "\n",
       "    .dataframe thead th {\n",
       "        text-align: right;\n",
       "    }\n",
       "</style>\n",
       "<table border=\"1\" class=\"dataframe\">\n",
       "  <thead>\n",
       "    <tr style=\"text-align: right;\">\n",
       "      <th></th>\n",
       "      <th>started_at</th>\n",
       "      <th>ended_at</th>\n",
       "      <th>start_station_name</th>\n",
       "      <th>start_station_id</th>\n",
       "      <th>end_station_name</th>\n",
       "      <th>end_station_id</th>\n",
       "      <th>start_lat</th>\n",
       "      <th>start_lng</th>\n",
       "      <th>end_lat</th>\n",
       "      <th>end_lng</th>\n",
       "      <th>member_casual</th>\n",
       "      <th>Year</th>\n",
       "      <th>started_at_date</th>\n",
       "      <th>started_at_time</th>\n",
       "      <th>ended_at_date</th>\n",
       "      <th>ended_at_time</th>\n",
       "    </tr>\n",
       "  </thead>\n",
       "  <tbody>\n",
       "    <tr>\n",
       "      <th>0</th>\n",
       "      <td>2020-04-01 00:00:15.2800</td>\n",
       "      <td>2020-04-01 00:09:09.8730</td>\n",
       "      <td>E 2 St &amp; Avenue A</td>\n",
       "      <td>3656</td>\n",
       "      <td>E 23 St &amp; 1 Ave</td>\n",
       "      <td>545</td>\n",
       "      <td>40.723077</td>\n",
       "      <td>-73.985836</td>\n",
       "      <td>40.736502</td>\n",
       "      <td>-73.978095</td>\n",
       "      <td>member</td>\n",
       "      <td>2020</td>\n",
       "      <td>2020-04-01</td>\n",
       "      <td>00:00:15.280000</td>\n",
       "      <td>2020-04-01</td>\n",
       "      <td>00:09:09.873000</td>\n",
       "    </tr>\n",
       "    <tr>\n",
       "      <th>1</th>\n",
       "      <td>2020-04-01 00:02:28.9430</td>\n",
       "      <td>2020-04-01 00:11:18.3410</td>\n",
       "      <td>Central Park West &amp; W 68 St</td>\n",
       "      <td>3163</td>\n",
       "      <td>Columbus Ave &amp; W 95 St</td>\n",
       "      <td>3301</td>\n",
       "      <td>40.773407</td>\n",
       "      <td>-73.977825</td>\n",
       "      <td>40.791956</td>\n",
       "      <td>-73.968087</td>\n",
       "      <td>member</td>\n",
       "      <td>2020</td>\n",
       "      <td>2020-04-01</td>\n",
       "      <td>00:02:28.943000</td>\n",
       "      <td>2020-04-01</td>\n",
       "      <td>00:11:18.341000</td>\n",
       "    </tr>\n",
       "    <tr>\n",
       "      <th>2</th>\n",
       "      <td>2020-04-01 00:02:56.0900</td>\n",
       "      <td>2020-04-01 00:27:44.2530</td>\n",
       "      <td>Columbus Ave &amp; W 72 St</td>\n",
       "      <td>3164</td>\n",
       "      <td>31 Ave &amp; Crescent St</td>\n",
       "      <td>3605</td>\n",
       "      <td>40.777057</td>\n",
       "      <td>-73.978985</td>\n",
       "      <td>40.765835</td>\n",
       "      <td>-73.926547</td>\n",
       "      <td>member</td>\n",
       "      <td>2020</td>\n",
       "      <td>2020-04-01</td>\n",
       "      <td>00:02:56.090000</td>\n",
       "      <td>2020-04-01</td>\n",
       "      <td>00:27:44.253000</td>\n",
       "    </tr>\n",
       "    <tr>\n",
       "      <th>3</th>\n",
       "      <td>2020-04-01 00:03:25.1410</td>\n",
       "      <td>2020-04-01 00:09:06.3190</td>\n",
       "      <td>Halsey St &amp; Broadway</td>\n",
       "      <td>3827</td>\n",
       "      <td>Van Buren St &amp; Broadway</td>\n",
       "      <td>3869</td>\n",
       "      <td>40.685650</td>\n",
       "      <td>-73.915640</td>\n",
       "      <td>40.692000</td>\n",
       "      <td>-73.926170</td>\n",
       "      <td>member</td>\n",
       "      <td>2020</td>\n",
       "      <td>2020-04-01</td>\n",
       "      <td>00:03:25.141000</td>\n",
       "      <td>2020-04-01</td>\n",
       "      <td>00:09:06.319000</td>\n",
       "    </tr>\n",
       "    <tr>\n",
       "      <th>4</th>\n",
       "      <td>2020-04-01 00:05:35.2790</td>\n",
       "      <td>2020-04-01 00:42:21.9080</td>\n",
       "      <td>Grove St &amp; Broadway</td>\n",
       "      <td>3890</td>\n",
       "      <td>Lewis Ave &amp; Kosciuszko St</td>\n",
       "      <td>3058</td>\n",
       "      <td>40.690470</td>\n",
       "      <td>-73.923511</td>\n",
       "      <td>40.692371</td>\n",
       "      <td>-73.937054</td>\n",
       "      <td>member</td>\n",
       "      <td>2020</td>\n",
       "      <td>2020-04-01</td>\n",
       "      <td>00:05:35.279000</td>\n",
       "      <td>2020-04-01</td>\n",
       "      <td>00:42:21.908000</td>\n",
       "    </tr>\n",
       "    <tr>\n",
       "      <th>...</th>\n",
       "      <td>...</td>\n",
       "      <td>...</td>\n",
       "      <td>...</td>\n",
       "      <td>...</td>\n",
       "      <td>...</td>\n",
       "      <td>...</td>\n",
       "      <td>...</td>\n",
       "      <td>...</td>\n",
       "      <td>...</td>\n",
       "      <td>...</td>\n",
       "      <td>...</td>\n",
       "      <td>...</td>\n",
       "      <td>...</td>\n",
       "      <td>...</td>\n",
       "      <td>...</td>\n",
       "      <td>...</td>\n",
       "    </tr>\n",
       "    <tr>\n",
       "      <th>2747034</th>\n",
       "      <td>2021-04-18 15:48:21</td>\n",
       "      <td>2021-04-18 16:03:42</td>\n",
       "      <td>Hudson St &amp; W 13 St</td>\n",
       "      <td>6115.06</td>\n",
       "      <td>Mercer St &amp; Spring St</td>\n",
       "      <td>5532.01</td>\n",
       "      <td>40.740057</td>\n",
       "      <td>-74.005274</td>\n",
       "      <td>40.723627</td>\n",
       "      <td>-73.999496</td>\n",
       "      <td>casual</td>\n",
       "      <td>2021</td>\n",
       "      <td>2021-04-18</td>\n",
       "      <td>15:48:21</td>\n",
       "      <td>2021-04-18</td>\n",
       "      <td>16:03:42</td>\n",
       "    </tr>\n",
       "    <tr>\n",
       "      <th>2747035</th>\n",
       "      <td>2021-04-19 19:39:00</td>\n",
       "      <td>2021-04-19 19:55:18</td>\n",
       "      <td>W 87 St &amp; Amsterdam Ave</td>\n",
       "      <td>7458.03</td>\n",
       "      <td>3 Ave &amp; E 62 St</td>\n",
       "      <td>6762.04</td>\n",
       "      <td>40.788390</td>\n",
       "      <td>-73.974700</td>\n",
       "      <td>40.763126</td>\n",
       "      <td>-73.965269</td>\n",
       "      <td>member</td>\n",
       "      <td>2021</td>\n",
       "      <td>2021-04-19</td>\n",
       "      <td>19:39:00</td>\n",
       "      <td>2021-04-19</td>\n",
       "      <td>19:55:18</td>\n",
       "    </tr>\n",
       "    <tr>\n",
       "      <th>2747036</th>\n",
       "      <td>2021-04-21 11:57:03</td>\n",
       "      <td>2021-04-21 12:15:49</td>\n",
       "      <td>E 27 St &amp; 1 Ave</td>\n",
       "      <td>6004.06</td>\n",
       "      <td>3 Ave &amp; E 62 St</td>\n",
       "      <td>6762.04</td>\n",
       "      <td>40.739445</td>\n",
       "      <td>-73.976806</td>\n",
       "      <td>40.763126</td>\n",
       "      <td>-73.965269</td>\n",
       "      <td>member</td>\n",
       "      <td>2021</td>\n",
       "      <td>2021-04-21</td>\n",
       "      <td>11:57:03</td>\n",
       "      <td>2021-04-21</td>\n",
       "      <td>12:15:49</td>\n",
       "    </tr>\n",
       "    <tr>\n",
       "      <th>2747037</th>\n",
       "      <td>2021-04-04 14:41:23</td>\n",
       "      <td>2021-04-04 14:56:46</td>\n",
       "      <td>Myrtle Ave &amp; St Edwards St</td>\n",
       "      <td>4659.02</td>\n",
       "      <td>Brooklyn Bridge Park - Pier 2</td>\n",
       "      <td>4756.04</td>\n",
       "      <td>40.693270</td>\n",
       "      <td>-73.977038</td>\n",
       "      <td>40.698458</td>\n",
       "      <td>-73.997178</td>\n",
       "      <td>member</td>\n",
       "      <td>2021</td>\n",
       "      <td>2021-04-04</td>\n",
       "      <td>14:41:23</td>\n",
       "      <td>2021-04-04</td>\n",
       "      <td>14:56:46</td>\n",
       "    </tr>\n",
       "    <tr>\n",
       "      <th>2747038</th>\n",
       "      <td>2021-04-23 18:40:57</td>\n",
       "      <td>2021-04-23 19:22:18</td>\n",
       "      <td>Hudson St &amp; W 13 St</td>\n",
       "      <td>6115.06</td>\n",
       "      <td>W 18 St &amp; 9 Ave</td>\n",
       "      <td>6190.03</td>\n",
       "      <td>40.740057</td>\n",
       "      <td>-74.005274</td>\n",
       "      <td>40.743534</td>\n",
       "      <td>-74.003676</td>\n",
       "      <td>casual</td>\n",
       "      <td>2021</td>\n",
       "      <td>2021-04-23</td>\n",
       "      <td>18:40:57</td>\n",
       "      <td>2021-04-23</td>\n",
       "      <td>19:22:18</td>\n",
       "    </tr>\n",
       "  </tbody>\n",
       "</table>\n",
       "<p>2747039 rows × 16 columns</p>\n",
       "</div>"
      ],
      "text/plain": [
       "                       started_at                  ended_at  \\\n",
       "0        2020-04-01 00:00:15.2800  2020-04-01 00:09:09.8730   \n",
       "1        2020-04-01 00:02:28.9430  2020-04-01 00:11:18.3410   \n",
       "2        2020-04-01 00:02:56.0900  2020-04-01 00:27:44.2530   \n",
       "3        2020-04-01 00:03:25.1410  2020-04-01 00:09:06.3190   \n",
       "4        2020-04-01 00:05:35.2790  2020-04-01 00:42:21.9080   \n",
       "...                           ...                       ...   \n",
       "2747034       2021-04-18 15:48:21       2021-04-18 16:03:42   \n",
       "2747035       2021-04-19 19:39:00       2021-04-19 19:55:18   \n",
       "2747036       2021-04-21 11:57:03       2021-04-21 12:15:49   \n",
       "2747037       2021-04-04 14:41:23       2021-04-04 14:56:46   \n",
       "2747038       2021-04-23 18:40:57       2021-04-23 19:22:18   \n",
       "\n",
       "                  start_station_name start_station_id  \\\n",
       "0                  E 2 St & Avenue A             3656   \n",
       "1        Central Park West & W 68 St             3163   \n",
       "2             Columbus Ave & W 72 St             3164   \n",
       "3               Halsey St & Broadway             3827   \n",
       "4                Grove St & Broadway             3890   \n",
       "...                              ...              ...   \n",
       "2747034          Hudson St & W 13 St          6115.06   \n",
       "2747035      W 87 St & Amsterdam Ave          7458.03   \n",
       "2747036              E 27 St & 1 Ave          6004.06   \n",
       "2747037   Myrtle Ave & St Edwards St          4659.02   \n",
       "2747038          Hudson St & W 13 St          6115.06   \n",
       "\n",
       "                      end_station_name end_station_id  start_lat  start_lng  \\\n",
       "0                      E 23 St & 1 Ave            545  40.723077 -73.985836   \n",
       "1               Columbus Ave & W 95 St           3301  40.773407 -73.977825   \n",
       "2                 31 Ave & Crescent St           3605  40.777057 -73.978985   \n",
       "3              Van Buren St & Broadway           3869  40.685650 -73.915640   \n",
       "4            Lewis Ave & Kosciuszko St           3058  40.690470 -73.923511   \n",
       "...                                ...            ...        ...        ...   \n",
       "2747034          Mercer St & Spring St        5532.01  40.740057 -74.005274   \n",
       "2747035                3 Ave & E 62 St        6762.04  40.788390 -73.974700   \n",
       "2747036                3 Ave & E 62 St        6762.04  40.739445 -73.976806   \n",
       "2747037  Brooklyn Bridge Park - Pier 2        4756.04  40.693270 -73.977038   \n",
       "2747038                W 18 St & 9 Ave        6190.03  40.740057 -74.005274   \n",
       "\n",
       "           end_lat    end_lng member_casual  Year started_at_date  \\\n",
       "0        40.736502 -73.978095        member  2020      2020-04-01   \n",
       "1        40.791956 -73.968087        member  2020      2020-04-01   \n",
       "2        40.765835 -73.926547        member  2020      2020-04-01   \n",
       "3        40.692000 -73.926170        member  2020      2020-04-01   \n",
       "4        40.692371 -73.937054        member  2020      2020-04-01   \n",
       "...            ...        ...           ...   ...             ...   \n",
       "2747034  40.723627 -73.999496        casual  2021      2021-04-18   \n",
       "2747035  40.763126 -73.965269        member  2021      2021-04-19   \n",
       "2747036  40.763126 -73.965269        member  2021      2021-04-21   \n",
       "2747037  40.698458 -73.997178        member  2021      2021-04-04   \n",
       "2747038  40.743534 -74.003676        casual  2021      2021-04-23   \n",
       "\n",
       "         started_at_time ended_at_date    ended_at_time  \n",
       "0        00:00:15.280000    2020-04-01  00:09:09.873000  \n",
       "1        00:02:28.943000    2020-04-01  00:11:18.341000  \n",
       "2        00:02:56.090000    2020-04-01  00:27:44.253000  \n",
       "3        00:03:25.141000    2020-04-01  00:09:06.319000  \n",
       "4        00:05:35.279000    2020-04-01  00:42:21.908000  \n",
       "...                  ...           ...              ...  \n",
       "2747034         15:48:21    2021-04-18         16:03:42  \n",
       "2747035         19:39:00    2021-04-19         19:55:18  \n",
       "2747036         11:57:03    2021-04-21         12:15:49  \n",
       "2747037         14:41:23    2021-04-04         14:56:46  \n",
       "2747038         18:40:57    2021-04-23         19:22:18  \n",
       "\n",
       "[2747039 rows x 16 columns]"
      ]
     },
     "execution_count": 178,
     "metadata": {},
     "output_type": "execute_result"
    }
   ],
   "source": [
    "merged.reset_index(drop=True)"
   ]
  },
  {
   "cell_type": "code",
   "execution_count": 179,
   "id": "5cd8256c-ad2a-4a1e-b7ba-f65fa4e8f8ba",
   "metadata": {},
   "outputs": [],
   "source": [
    "merged.to_csv(r'C:\\Users\\emeyer79\\Desktop\\Tableau HW\\merged_final.csv', index = False)\n"
   ]
  },
  {
   "cell_type": "code",
   "execution_count": null,
   "id": "93b64032-a0f8-4c18-98f7-2cef726bdb06",
   "metadata": {},
   "outputs": [],
   "source": []
  }
 ],
 "metadata": {
  "kernelspec": {
   "display_name": "Python 3",
   "language": "python",
   "name": "python3"
  },
  "language_info": {
   "codemirror_mode": {
    "name": "ipython",
    "version": 3
   },
   "file_extension": ".py",
   "mimetype": "text/x-python",
   "name": "python",
   "nbconvert_exporter": "python",
   "pygments_lexer": "ipython3",
   "version": "3.8.10"
  }
 },
 "nbformat": 4,
 "nbformat_minor": 5
}
